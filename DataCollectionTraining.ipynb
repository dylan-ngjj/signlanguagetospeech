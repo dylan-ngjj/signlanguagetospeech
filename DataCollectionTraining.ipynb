{
 "cells": [
  {
   "cell_type": "markdown",
   "id": "e56ba9de",
   "metadata": {},
   "source": [
    "# 1. Import SignLanguageModule notebook"
   ]
  },
  {
   "cell_type": "code",
   "execution_count": 1,
   "id": "0c9f4988",
   "metadata": {},
   "outputs": [
    {
     "name": "stdout",
     "output_type": "stream",
     "text": [
      "Requirement already satisfied: tensorflow==2.5.0 in c:\\users\\dylan\\anaconda3\\envs\\sign_language_to_speech\\lib\\site-packages (2.5.0)\n",
      "Requirement already satisfied: opencv-python in c:\\users\\dylan\\anaconda3\\envs\\sign_language_to_speech\\lib\\site-packages (4.5.3.56)\n",
      "Requirement already satisfied: mediapipe in c:\\users\\dylan\\anaconda3\\envs\\sign_language_to_speech\\lib\\site-packages (0.8.8.1)\n",
      "Requirement already satisfied: sklearn in c:\\users\\dylan\\anaconda3\\envs\\sign_language_to_speech\\lib\\site-packages (0.0)\n",
      "Requirement already satisfied: matplotlib in c:\\users\\dylan\\anaconda3\\envs\\sign_language_to_speech\\lib\\site-packages (3.4.3)\n",
      "Requirement already satisfied: astunparse~=1.6.3 in c:\\users\\dylan\\anaconda3\\envs\\sign_language_to_speech\\lib\\site-packages (from tensorflow==2.5.0) (1.6.3)\n",
      "Requirement already satisfied: numpy~=1.19.2 in c:\\users\\dylan\\anaconda3\\envs\\sign_language_to_speech\\lib\\site-packages (from tensorflow==2.5.0) (1.19.5)\n",
      "Requirement already satisfied: tensorboard~=2.5 in c:\\users\\dylan\\anaconda3\\envs\\sign_language_to_speech\\lib\\site-packages (from tensorflow==2.5.0) (2.7.0)\n",
      "Requirement already satisfied: termcolor~=1.1.0 in c:\\users\\dylan\\anaconda3\\envs\\sign_language_to_speech\\lib\\site-packages (from tensorflow==2.5.0) (1.1.0)\n",
      "Requirement already satisfied: keras-preprocessing~=1.1.2 in c:\\users\\dylan\\anaconda3\\envs\\sign_language_to_speech\\lib\\site-packages (from tensorflow==2.5.0) (1.1.2)\n",
      "Requirement already satisfied: h5py~=3.1.0 in c:\\users\\dylan\\anaconda3\\envs\\sign_language_to_speech\\lib\\site-packages (from tensorflow==2.5.0) (3.1.0)\n",
      "Requirement already satisfied: gast==0.4.0 in c:\\users\\dylan\\anaconda3\\envs\\sign_language_to_speech\\lib\\site-packages (from tensorflow==2.5.0) (0.4.0)\n",
      "Requirement already satisfied: wrapt~=1.12.1 in c:\\users\\dylan\\anaconda3\\envs\\sign_language_to_speech\\lib\\site-packages (from tensorflow==2.5.0) (1.12.1)\n",
      "Requirement already satisfied: protobuf>=3.9.2 in c:\\users\\dylan\\anaconda3\\envs\\sign_language_to_speech\\lib\\site-packages (from tensorflow==2.5.0) (3.18.1)\n",
      "Requirement already satisfied: six~=1.15.0 in c:\\users\\dylan\\anaconda3\\envs\\sign_language_to_speech\\lib\\site-packages (from tensorflow==2.5.0) (1.15.0)\n",
      "Requirement already satisfied: typing-extensions~=3.7.4 in c:\\users\\dylan\\anaconda3\\envs\\sign_language_to_speech\\lib\\site-packages (from tensorflow==2.5.0) (3.7.4.3)\n",
      "Requirement already satisfied: flatbuffers~=1.12.0 in c:\\users\\dylan\\anaconda3\\envs\\sign_language_to_speech\\lib\\site-packages (from tensorflow==2.5.0) (1.12)\n",
      "Requirement already satisfied: opt-einsum~=3.3.0 in c:\\users\\dylan\\anaconda3\\envs\\sign_language_to_speech\\lib\\site-packages (from tensorflow==2.5.0) (3.3.0)\n",
      "Requirement already satisfied: grpcio~=1.34.0 in c:\\users\\dylan\\anaconda3\\envs\\sign_language_to_speech\\lib\\site-packages (from tensorflow==2.5.0) (1.34.1)\n",
      "Requirement already satisfied: wheel~=0.35 in c:\\users\\dylan\\anaconda3\\envs\\sign_language_to_speech\\lib\\site-packages (from tensorflow==2.5.0) (0.37.0)\n",
      "Requirement already satisfied: tensorflow-estimator<2.6.0,>=2.5.0rc0 in c:\\users\\dylan\\anaconda3\\envs\\sign_language_to_speech\\lib\\site-packages (from tensorflow==2.5.0) (2.5.0)\n",
      "Requirement already satisfied: keras-nightly~=2.5.0.dev in c:\\users\\dylan\\anaconda3\\envs\\sign_language_to_speech\\lib\\site-packages (from tensorflow==2.5.0) (2.5.0.dev2021032900)\n",
      "Requirement already satisfied: google-pasta~=0.2 in c:\\users\\dylan\\anaconda3\\envs\\sign_language_to_speech\\lib\\site-packages (from tensorflow==2.5.0) (0.2.0)\n",
      "Requirement already satisfied: absl-py~=0.10 in c:\\users\\dylan\\anaconda3\\envs\\sign_language_to_speech\\lib\\site-packages (from tensorflow==2.5.0) (0.15.0)\n",
      "Requirement already satisfied: google-auth-oauthlib<0.5,>=0.4.1 in c:\\users\\dylan\\anaconda3\\envs\\sign_language_to_speech\\lib\\site-packages (from tensorboard~=2.5->tensorflow==2.5.0) (0.4.6)\n",
      "Requirement already satisfied: markdown>=2.6.8 in c:\\users\\dylan\\anaconda3\\envs\\sign_language_to_speech\\lib\\site-packages (from tensorboard~=2.5->tensorflow==2.5.0) (3.3.4)\n",
      "Requirement already satisfied: requests<3,>=2.21.0 in c:\\users\\dylan\\anaconda3\\envs\\sign_language_to_speech\\lib\\site-packages (from tensorboard~=2.5->tensorflow==2.5.0) (2.26.0)\n",
      "Requirement already satisfied: setuptools>=41.0.0 in c:\\users\\dylan\\anaconda3\\envs\\sign_language_to_speech\\lib\\site-packages (from tensorboard~=2.5->tensorflow==2.5.0) (58.0.4)\n",
      "Requirement already satisfied: google-auth<3,>=1.6.3 in c:\\users\\dylan\\anaconda3\\envs\\sign_language_to_speech\\lib\\site-packages (from tensorboard~=2.5->tensorflow==2.5.0) (2.3.0)\n",
      "Requirement already satisfied: tensorboard-data-server<0.7.0,>=0.6.0 in c:\\users\\dylan\\anaconda3\\envs\\sign_language_to_speech\\lib\\site-packages (from tensorboard~=2.5->tensorflow==2.5.0) (0.6.1)\n",
      "Requirement already satisfied: tensorboard-plugin-wit>=1.6.0 in c:\\users\\dylan\\anaconda3\\envs\\sign_language_to_speech\\lib\\site-packages (from tensorboard~=2.5->tensorflow==2.5.0) (1.8.0)\n",
      "Requirement already satisfied: werkzeug>=0.11.15 in c:\\users\\dylan\\anaconda3\\envs\\sign_language_to_speech\\lib\\site-packages (from tensorboard~=2.5->tensorflow==2.5.0) (2.0.2)\n",
      "Requirement already satisfied: cachetools<5.0,>=2.0.0 in c:\\users\\dylan\\anaconda3\\envs\\sign_language_to_speech\\lib\\site-packages (from google-auth<3,>=1.6.3->tensorboard~=2.5->tensorflow==2.5.0) (4.2.4)\n",
      "Requirement already satisfied: rsa<5,>=3.1.4 in c:\\users\\dylan\\anaconda3\\envs\\sign_language_to_speech\\lib\\site-packages (from google-auth<3,>=1.6.3->tensorboard~=2.5->tensorflow==2.5.0) (4.7.2)\n",
      "Requirement already satisfied: pyasn1-modules>=0.2.1 in c:\\users\\dylan\\anaconda3\\envs\\sign_language_to_speech\\lib\\site-packages (from google-auth<3,>=1.6.3->tensorboard~=2.5->tensorflow==2.5.0) (0.2.8)\n",
      "Requirement already satisfied: requests-oauthlib>=0.7.0 in c:\\users\\dylan\\anaconda3\\envs\\sign_language_to_speech\\lib\\site-packages (from google-auth-oauthlib<0.5,>=0.4.1->tensorboard~=2.5->tensorflow==2.5.0) (1.3.0)\n",
      "Requirement already satisfied: pyasn1<0.5.0,>=0.4.6 in c:\\users\\dylan\\anaconda3\\envs\\sign_language_to_speech\\lib\\site-packages (from pyasn1-modules>=0.2.1->google-auth<3,>=1.6.3->tensorboard~=2.5->tensorflow==2.5.0) (0.4.8)\n",
      "Requirement already satisfied: idna<4,>=2.5 in c:\\users\\dylan\\anaconda3\\envs\\sign_language_to_speech\\lib\\site-packages (from requests<3,>=2.21.0->tensorboard~=2.5->tensorflow==2.5.0) (3.3)\n",
      "Requirement already satisfied: urllib3<1.27,>=1.21.1 in c:\\users\\dylan\\anaconda3\\envs\\sign_language_to_speech\\lib\\site-packages (from requests<3,>=2.21.0->tensorboard~=2.5->tensorflow==2.5.0) (1.26.7)\n",
      "Requirement already satisfied: certifi>=2017.4.17 in c:\\users\\dylan\\anaconda3\\envs\\sign_language_to_speech\\lib\\site-packages (from requests<3,>=2.21.0->tensorboard~=2.5->tensorflow==2.5.0) (2021.10.8)\n",
      "Requirement already satisfied: charset-normalizer~=2.0.0 in c:\\users\\dylan\\anaconda3\\envs\\sign_language_to_speech\\lib\\site-packages (from requests<3,>=2.21.0->tensorboard~=2.5->tensorflow==2.5.0) (2.0.7)\n",
      "Requirement already satisfied: oauthlib>=3.0.0 in c:\\users\\dylan\\anaconda3\\envs\\sign_language_to_speech\\lib\\site-packages (from requests-oauthlib>=0.7.0->google-auth-oauthlib<0.5,>=0.4.1->tensorboard~=2.5->tensorflow==2.5.0) (3.1.1)\n",
      "Requirement already satisfied: cycler>=0.10 in c:\\users\\dylan\\anaconda3\\envs\\sign_language_to_speech\\lib\\site-packages (from matplotlib) (0.10.0)\n",
      "Requirement already satisfied: pyparsing>=2.2.1 in c:\\users\\dylan\\anaconda3\\envs\\sign_language_to_speech\\lib\\site-packages (from matplotlib) (2.4.7)\n",
      "Requirement already satisfied: kiwisolver>=1.0.1 in c:\\users\\dylan\\anaconda3\\envs\\sign_language_to_speech\\lib\\site-packages (from matplotlib) (1.3.2)\n",
      "Requirement already satisfied: python-dateutil>=2.7 in c:\\users\\dylan\\anaconda3\\envs\\sign_language_to_speech\\lib\\site-packages (from matplotlib) (2.8.2)\n",
      "Requirement already satisfied: pillow>=6.2.0 in c:\\users\\dylan\\anaconda3\\envs\\sign_language_to_speech\\lib\\site-packages (from matplotlib) (8.4.0)\n",
      "Requirement already satisfied: opencv-contrib-python in c:\\users\\dylan\\anaconda3\\envs\\sign_language_to_speech\\lib\\site-packages (from mediapipe) (4.5.3.56)\n",
      "Requirement already satisfied: attrs>=19.1.0 in c:\\users\\dylan\\anaconda3\\envs\\sign_language_to_speech\\lib\\site-packages (from mediapipe) (21.2.0)\n",
      "Requirement already satisfied: scikit-learn in c:\\users\\dylan\\anaconda3\\envs\\sign_language_to_speech\\lib\\site-packages (from sklearn) (1.0)\n",
      "Requirement already satisfied: threadpoolctl>=2.0.0 in c:\\users\\dylan\\anaconda3\\envs\\sign_language_to_speech\\lib\\site-packages (from scikit-learn->sklearn) (3.0.0)\n",
      "Requirement already satisfied: scipy>=1.1.0 in c:\\users\\dylan\\anaconda3\\envs\\sign_language_to_speech\\lib\\site-packages (from scikit-learn->sklearn) (1.7.1)\n",
      "Requirement already satisfied: joblib>=0.11 in c:\\users\\dylan\\anaconda3\\envs\\sign_language_to_speech\\lib\\site-packages (from scikit-learn->sklearn) (1.1.0)\n"
     ]
    },
    {
     "name": "stderr",
     "output_type": "stream",
     "text": [
      "ERROR: Invalid requirement: '#'\n"
     ]
    },
    {
     "name": "stdout",
     "output_type": "stream",
     "text": [
      "['a', 'b', 'c', 'd', 'e', 'f', 'g', 'h', 'i', 'j', 'k', 'l', 'm', 'n', 'o', 'p', 'q', 'r', 's', 't', 'u', 'v', 'w', 'x', 'y', 'z']\n"
     ]
    }
   ],
   "source": [
    "import import_ipynb\n",
    "import SignLanguageModule as signLangModule # notebook converted as .py file"
   ]
  },
  {
   "cell_type": "markdown",
   "id": "9b387730",
   "metadata": {},
   "source": [
    "# 2. Collect Keypoint Values for Training and Testing"
   ]
  },
  {
   "cell_type": "code",
   "execution_count": 2,
   "id": "00e55152",
   "metadata": {},
   "outputs": [],
   "source": [
    "# Call function to collect keypoints from SignLanguageModule\n",
    "# signLangModule.collect_keypoints()"
   ]
  },
  {
   "cell_type": "markdown",
   "id": "acd9c72c",
   "metadata": {},
   "source": [
    "# 3. Preprocess Data and Create Labels and Features"
   ]
  },
  {
   "cell_type": "code",
   "execution_count": 2,
   "id": "800f7432",
   "metadata": {},
   "outputs": [],
   "source": [
    "# Import dependencies\n",
    "from sklearn.model_selection import train_test_split\n",
    "from tensorflow.keras.utils import to_categorical"
   ]
  },
  {
   "cell_type": "code",
   "execution_count": 3,
   "id": "bb649b40",
   "metadata": {},
   "outputs": [],
   "source": [
    "import os\n",
    "import numpy as np"
   ]
  },
  {
   "cell_type": "code",
   "execution_count": 4,
   "id": "f97351b6",
   "metadata": {},
   "outputs": [],
   "source": [
    "# Create label map for the signs defined in SignLanguageModule\n",
    "# to be used when creating training data in testing data\n",
    "label_map = {label:num for num, label in enumerate(signLangModule.signs)}"
   ]
  },
  {
   "cell_type": "code",
   "execution_count": 5,
   "id": "0a71d7d3",
   "metadata": {
    "scrolled": true
   },
   "outputs": [
    {
     "data": {
      "text/plain": [
       "{'a': 0,\n",
       " 'b': 1,\n",
       " 'c': 2,\n",
       " 'd': 3,\n",
       " 'e': 4,\n",
       " 'f': 5,\n",
       " 'g': 6,\n",
       " 'h': 7,\n",
       " 'i': 8,\n",
       " 'j': 9,\n",
       " 'k': 10,\n",
       " 'l': 11,\n",
       " 'm': 12,\n",
       " 'n': 13,\n",
       " 'o': 14,\n",
       " 'p': 15,\n",
       " 'q': 16,\n",
       " 'r': 17,\n",
       " 's': 18,\n",
       " 't': 19,\n",
       " 'u': 20,\n",
       " 'v': 21,\n",
       " 'w': 22,\n",
       " 'x': 23,\n",
       " 'y': 24,\n",
       " 'z': 25,\n",
       " 'hello': 26,\n",
       " 'my': 27,\n",
       " 'name': 28,\n",
       " 'is': 29,\n",
       " 'nice': 30,\n",
       " 'you': 31,\n",
       " 'bye': 32,\n",
       " 'thank you': 33,\n",
       " 'to meet': 34}"
      ]
     },
     "execution_count": 5,
     "metadata": {},
     "output_type": "execute_result"
    }
   ],
   "source": [
    "label_map"
   ]
  },
  {
   "cell_type": "code",
   "execution_count": 6,
   "id": "1a6e38f9",
   "metadata": {},
   "outputs": [],
   "source": [
    "# Sequences for feature (x) data\n",
    "# Labels for representing labels (y) data\n",
    "sequences, labels = [], []\n",
    "for sign in signLangModule.signs:\n",
    "    for sequence in np.array(os.listdir(os.path.join(signLangModule.DATA_PATH, sign))).astype(int):\n",
    "        window = []\n",
    "        for frame_num in range(signLangModule.sequence_length):\n",
    "            res = np.load(os.path.join(signLangModule.DATA_PATH, sign, str(sequence), \"{}.npy\".format(frame_num)))\n",
    "            window.append(res)\n",
    "        sequences.append(window)\n",
    "        labels.append(label_map[sign])"
   ]
  },
  {
   "cell_type": "code",
   "execution_count": 6,
   "id": "03099b63",
   "metadata": {},
   "outputs": [
    {
     "data": {
      "text/plain": [
       "(2100, 30, 1662)"
      ]
     },
     "execution_count": 6,
     "metadata": {},
     "output_type": "execute_result"
    }
   ],
   "source": [
    "np.array(sequences).shape #check this one for all signs"
   ]
  },
  {
   "cell_type": "code",
   "execution_count": 7,
   "id": "46d9a993",
   "metadata": {},
   "outputs": [
    {
     "data": {
      "text/plain": [
       "(2100,)"
      ]
     },
     "execution_count": 7,
     "metadata": {},
     "output_type": "execute_result"
    }
   ],
   "source": [
    "np.array(labels).shape #check this too"
   ]
  },
  {
   "cell_type": "code",
   "execution_count": 7,
   "id": "c002ca65",
   "metadata": {},
   "outputs": [],
   "source": [
    "# Store sequences into numpy array to work with\n",
    "X = np.array(sequences)\n",
    "\n",
    "# Convert initial labels, encode them as one-code representation/binary flat\n",
    "y = to_categorical(labels).astype(int)\n",
    "\n",
    "# Specify test data proportion (20% of the data)\n",
    "X_train, X_test, y_train, y_test = train_test_split(X, y, test_size=0.2, random_state=1, stratify=y) "
   ]
  },
  {
   "cell_type": "code",
   "execution_count": 16,
   "id": "a6a5d26d",
   "metadata": {},
   "outputs": [
    {
     "data": {
      "text/plain": [
       "array([[0, 0, 0, ..., 0, 0, 0],\n",
       "       [0, 0, 0, ..., 0, 0, 0],\n",
       "       [0, 0, 0, ..., 0, 0, 0],\n",
       "       ...,\n",
       "       [1, 0, 0, ..., 0, 0, 0],\n",
       "       [0, 0, 0, ..., 0, 0, 0],\n",
       "       [0, 0, 0, ..., 0, 0, 0]])"
      ]
     },
     "execution_count": 16,
     "metadata": {},
     "output_type": "execute_result"
    }
   ],
   "source": [
    "y_test"
   ]
  },
  {
   "cell_type": "code",
   "execution_count": 17,
   "id": "59b610cf",
   "metadata": {},
   "outputs": [
    {
     "data": {
      "text/plain": [
       "(1680, 30, 1662)"
      ]
     },
     "execution_count": 17,
     "metadata": {},
     "output_type": "execute_result"
    }
   ],
   "source": [
    "X_train.shape"
   ]
  },
  {
   "cell_type": "code",
   "execution_count": 18,
   "id": "63199d1e",
   "metadata": {},
   "outputs": [],
   "source": [
    "# Instantiate model\n",
    "model = signLangModule.createModel()"
   ]
  },
  {
   "cell_type": "code",
   "execution_count": 9,
   "id": "976d842a",
   "metadata": {},
   "outputs": [
    {
     "name": "stdout",
     "output_type": "stream",
     "text": [
      "Model: \"sequential\"\n",
      "_________________________________________________________________\n",
      "Layer (type)                 Output Shape              Param #   \n",
      "=================================================================\n",
      "lstm (LSTM)                  (None, 30, 64)            442112    \n",
      "_________________________________________________________________\n",
      "lstm_1 (LSTM)                (None, 30, 128)           98816     \n",
      "_________________________________________________________________\n",
      "lstm_2 (LSTM)                (None, 64)                49408     \n",
      "_________________________________________________________________\n",
      "dropout (Dropout)            (None, 64)                0         \n",
      "_________________________________________________________________\n",
      "dense (Dense)                (None, 700)               45500     \n",
      "_________________________________________________________________\n",
      "dropout_1 (Dropout)          (None, 700)               0         \n",
      "_________________________________________________________________\n",
      "dense_1 (Dense)              (None, 700)               490700    \n",
      "_________________________________________________________________\n",
      "dropout_2 (Dropout)          (None, 700)               0         \n",
      "_________________________________________________________________\n",
      "dense_2 (Dense)              (None, 500)               350500    \n",
      "_________________________________________________________________\n",
      "dropout_3 (Dropout)          (None, 500)               0         \n",
      "_________________________________________________________________\n",
      "dense_3 (Dense)              (None, 500)               250500    \n",
      "_________________________________________________________________\n",
      "dense_4 (Dense)              (None, 35)                17535     \n",
      "=================================================================\n",
      "Total params: 1,745,071\n",
      "Trainable params: 1,745,071\n",
      "Non-trainable params: 0\n",
      "_________________________________________________________________\n"
     ]
    }
   ],
   "source": [
    "# Check model summary\n",
    "model.summary()"
   ]
  },
  {
   "cell_type": "code",
   "execution_count": 13,
   "id": "17fb41f5",
   "metadata": {},
   "outputs": [
    {
     "data": {
      "text/plain": [
       "35"
      ]
     },
     "execution_count": 13,
     "metadata": {},
     "output_type": "execute_result"
    }
   ],
   "source": [
    "signLangModule.signs.shape[0]"
   ]
  },
  {
   "cell_type": "markdown",
   "id": "6633dc22",
   "metadata": {},
   "source": [
    "# 4. Train the LSTM Neural Network"
   ]
  },
  {
   "cell_type": "code",
   "execution_count": 10,
   "id": "0e589399",
   "metadata": {},
   "outputs": [
    {
     "name": "stdout",
     "output_type": "stream",
     "text": [
      "Epoch 1/1000\n",
      "14/14 [==============================] - 4s 141ms/step - loss: 4.1232 - categorical_accuracy: 0.0315\n",
      "Epoch 2/1000\n",
      "14/14 [==============================] - 2s 118ms/step - loss: 3.5628 - categorical_accuracy: 0.0274\n",
      "Epoch 3/1000\n",
      "14/14 [==============================] - 2s 121ms/step - loss: 3.5563 - categorical_accuracy: 0.0292\n",
      "Epoch 4/1000\n",
      "14/14 [==============================] - 2s 124ms/step - loss: 3.5556 - categorical_accuracy: 0.0333\n",
      "Epoch 5/1000\n",
      "14/14 [==============================] - 2s 125ms/step - loss: 3.5533 - categorical_accuracy: 0.0321\n",
      "Epoch 6/1000\n",
      "14/14 [==============================] - 2s 130ms/step - loss: 3.5519 - categorical_accuracy: 0.0244\n",
      "Epoch 7/1000\n",
      "14/14 [==============================] - 2s 134ms/step - loss: 3.5550 - categorical_accuracy: 0.0310\n",
      "Epoch 8/1000\n",
      "14/14 [==============================] - 2s 130ms/step - loss: 3.5547 - categorical_accuracy: 0.0262\n",
      "Epoch 9/1000\n",
      "14/14 [==============================] - 2s 131ms/step - loss: 3.5640 - categorical_accuracy: 0.0238\n",
      "Epoch 10/1000\n",
      "14/14 [==============================] - 2s 140ms/step - loss: 3.5497 - categorical_accuracy: 0.0262\n",
      "Epoch 11/1000\n",
      "14/14 [==============================] - 2s 148ms/step - loss: 3.5428 - categorical_accuracy: 0.0381\n",
      "Epoch 12/1000\n",
      "14/14 [==============================] - 2s 147ms/step - loss: 3.5118 - categorical_accuracy: 0.0411\n",
      "Epoch 13/1000\n",
      "14/14 [==============================] - 2s 143ms/step - loss: 3.5541 - categorical_accuracy: 0.0256\n",
      "Epoch 14/1000\n",
      "14/14 [==============================] - 2s 143ms/step - loss: 3.5504 - categorical_accuracy: 0.0357\n",
      "Epoch 15/1000\n",
      "14/14 [==============================] - 2s 140ms/step - loss: 3.8836 - categorical_accuracy: 0.0226\n",
      "Epoch 16/1000\n",
      "14/14 [==============================] - 2s 142ms/step - loss: 3.5591 - categorical_accuracy: 0.0274\n",
      "Epoch 17/1000\n",
      "14/14 [==============================] - 2s 141ms/step - loss: 3.5783 - categorical_accuracy: 0.0357\n",
      "Epoch 18/1000\n",
      "14/14 [==============================] - 2s 142ms/step - loss: 3.6998 - categorical_accuracy: 0.0238\n",
      "Epoch 19/1000\n",
      "14/14 [==============================] - 2s 143ms/step - loss: 3.6862 - categorical_accuracy: 0.0387\n",
      "Epoch 20/1000\n",
      "14/14 [==============================] - 2s 150ms/step - loss: 3.6461 - categorical_accuracy: 0.0304\n",
      "Epoch 21/1000\n",
      "14/14 [==============================] - 2s 146ms/step - loss: 3.9280 - categorical_accuracy: 0.0256\n",
      "Epoch 22/1000\n",
      "14/14 [==============================] - 2s 145ms/step - loss: 13.3390 - categorical_accuracy: 0.0292\n",
      "Epoch 23/1000\n",
      "14/14 [==============================] - 2s 142ms/step - loss: 18.6932 - categorical_accuracy: 0.0327\n",
      "Epoch 24/1000\n",
      "14/14 [==============================] - 2s 142ms/step - loss: 9.7431 - categorical_accuracy: 0.0262\n",
      "Epoch 25/1000\n",
      "14/14 [==============================] - 2s 142ms/step - loss: 4.3698 - categorical_accuracy: 0.0321\n",
      "Epoch 26/1000\n",
      "14/14 [==============================] - 2s 143ms/step - loss: 3.6926 - categorical_accuracy: 0.0298\n",
      "Epoch 27/1000\n",
      "14/14 [==============================] - 2s 142ms/step - loss: 3.6276 - categorical_accuracy: 0.0351\n",
      "Epoch 28/1000\n",
      "14/14 [==============================] - 2s 142ms/step - loss: 3.6257 - categorical_accuracy: 0.0268\n",
      "Epoch 29/1000\n",
      "14/14 [==============================] - 2s 141ms/step - loss: 3.5922 - categorical_accuracy: 0.0315\n",
      "Epoch 30/1000\n",
      "14/14 [==============================] - 2s 162ms/step - loss: 3.5682 - categorical_accuracy: 0.0280\n",
      "Epoch 31/1000\n",
      "14/14 [==============================] - 2s 147ms/step - loss: 3.5792 - categorical_accuracy: 0.0292\n",
      "Epoch 32/1000\n",
      "14/14 [==============================] - 2s 147ms/step - loss: 3.5702 - categorical_accuracy: 0.0238\n",
      "Epoch 33/1000\n",
      "14/14 [==============================] - 2s 149ms/step - loss: 3.5753 - categorical_accuracy: 0.0274\n",
      "Epoch 34/1000\n",
      "14/14 [==============================] - 2s 147ms/step - loss: 3.5581 - categorical_accuracy: 0.0298\n",
      "Epoch 35/1000\n",
      "14/14 [==============================] - 2s 150ms/step - loss: 3.5666 - categorical_accuracy: 0.0298\n",
      "Epoch 36/1000\n",
      "14/14 [==============================] - 2s 170ms/step - loss: 3.5631 - categorical_accuracy: 0.0292\n",
      "Epoch 37/1000\n",
      "14/14 [==============================] - 2s 162ms/step - loss: 3.5664 - categorical_accuracy: 0.0280\n",
      "Epoch 38/1000\n",
      "14/14 [==============================] - 2s 167ms/step - loss: 3.5618 - categorical_accuracy: 0.0310\n",
      "Epoch 39/1000\n",
      "14/14 [==============================] - 2s 161ms/step - loss: 3.5640 - categorical_accuracy: 0.0280\n",
      "Epoch 40/1000\n",
      "14/14 [==============================] - 2s 155ms/step - loss: 3.5586 - categorical_accuracy: 0.0280\n",
      "Epoch 41/1000\n",
      "14/14 [==============================] - 2s 144ms/step - loss: 3.5621 - categorical_accuracy: 0.0280\n",
      "Epoch 42/1000\n",
      "14/14 [==============================] - 2s 157ms/step - loss: 3.5555 - categorical_accuracy: 0.0292\n",
      "Epoch 43/1000\n",
      "14/14 [==============================] - 2s 151ms/step - loss: 3.5613 - categorical_accuracy: 0.0280\n",
      "Epoch 44/1000\n",
      "14/14 [==============================] - 2s 153ms/step - loss: 3.5598 - categorical_accuracy: 0.0321\n",
      "Epoch 45/1000\n",
      "14/14 [==============================] - 2s 168ms/step - loss: 3.5560 - categorical_accuracy: 0.0286\n",
      "Epoch 46/1000\n",
      "14/14 [==============================] - 2s 145ms/step - loss: 3.5614 - categorical_accuracy: 0.0292\n",
      "Epoch 47/1000\n",
      "14/14 [==============================] - 2s 146ms/step - loss: 3.5624 - categorical_accuracy: 0.0286\n",
      "Epoch 48/1000\n",
      "14/14 [==============================] - 2s 146ms/step - loss: 3.5617 - categorical_accuracy: 0.0280\n",
      "Epoch 49/1000\n",
      "14/14 [==============================] - 2s 145ms/step - loss: 3.5613 - categorical_accuracy: 0.0292\n",
      "Epoch 50/1000\n",
      "14/14 [==============================] - 2s 147ms/step - loss: 3.5588 - categorical_accuracy: 0.0256\n",
      "Epoch 51/1000\n",
      "14/14 [==============================] - 2s 152ms/step - loss: 3.5565 - categorical_accuracy: 0.0292\n",
      "Epoch 52/1000\n",
      "14/14 [==============================] - 2s 151ms/step - loss: 3.5560 - categorical_accuracy: 0.0292\n",
      "Epoch 53/1000\n",
      "14/14 [==============================] - 2s 151ms/step - loss: 3.5589 - categorical_accuracy: 0.0286\n",
      "Epoch 54/1000\n",
      "14/14 [==============================] - 2s 148ms/step - loss: 3.5564 - categorical_accuracy: 0.0286\n",
      "Epoch 55/1000\n",
      "14/14 [==============================] - 2s 148ms/step - loss: 3.5591 - categorical_accuracy: 0.0280\n",
      "Epoch 56/1000\n",
      "14/14 [==============================] - 2s 149ms/step - loss: 3.5578 - categorical_accuracy: 0.0298\n",
      "Epoch 57/1000\n",
      "14/14 [==============================] - 2s 152ms/step - loss: 3.5604 - categorical_accuracy: 0.0274\n",
      "Epoch 58/1000\n",
      "14/14 [==============================] - 2s 149ms/step - loss: 3.5591 - categorical_accuracy: 0.0280\n",
      "Epoch 59/1000\n",
      "14/14 [==============================] - 2s 150ms/step - loss: 3.5618 - categorical_accuracy: 0.0268\n",
      "Epoch 60/1000\n",
      "14/14 [==============================] - 2s 161ms/step - loss: 3.5576 - categorical_accuracy: 0.0286\n",
      "Epoch 61/1000\n",
      "14/14 [==============================] - 2s 163ms/step - loss: 3.5571 - categorical_accuracy: 0.0292\n",
      "Epoch 62/1000\n",
      "14/14 [==============================] - 2s 170ms/step - loss: 3.5548 - categorical_accuracy: 0.0292\n",
      "Epoch 63/1000\n",
      "14/14 [==============================] - 2s 161ms/step - loss: 3.5610 - categorical_accuracy: 0.0292\n",
      "Epoch 64/1000\n",
      "14/14 [==============================] - 2s 158ms/step - loss: 3.5582 - categorical_accuracy: 0.0280\n",
      "Epoch 65/1000\n",
      "14/14 [==============================] - 3s 197ms/step - loss: 3.5554 - categorical_accuracy: 0.0292\n",
      "Epoch 66/1000\n",
      "14/14 [==============================] - 2s 163ms/step - loss: 3.5603 - categorical_accuracy: 0.0280\n",
      "Epoch 67/1000\n",
      "14/14 [==============================] - 2s 160ms/step - loss: 3.5584 - categorical_accuracy: 0.0286\n",
      "Epoch 68/1000\n",
      "14/14 [==============================] - 2s 161ms/step - loss: 3.5577 - categorical_accuracy: 0.0292\n",
      "Epoch 69/1000\n",
      "14/14 [==============================] - 2s 166ms/step - loss: 3.5579 - categorical_accuracy: 0.0280\n",
      "Epoch 70/1000\n",
      "14/14 [==============================] - 2s 173ms/step - loss: 3.5555 - categorical_accuracy: 0.0280\n",
      "Epoch 71/1000\n",
      "14/14 [==============================] - 2s 164ms/step - loss: 3.5564 - categorical_accuracy: 0.0286\n",
      "Epoch 72/1000\n"
     ]
    },
    {
     "name": "stdout",
     "output_type": "stream",
     "text": [
      "14/14 [==============================] - 2s 161ms/step - loss: 3.5555 - categorical_accuracy: 0.0298\n",
      "Epoch 73/1000\n",
      "14/14 [==============================] - 2s 166ms/step - loss: 3.5571 - categorical_accuracy: 0.0286\n",
      "Epoch 74/1000\n",
      "14/14 [==============================] - 3s 182ms/step - loss: 3.5569 - categorical_accuracy: 0.0280\n",
      "Epoch 75/1000\n",
      "14/14 [==============================] - 3s 190ms/step - loss: 3.5554 - categorical_accuracy: 0.0286\n",
      "Epoch 76/1000\n",
      "14/14 [==============================] - 2s 167ms/step - loss: 3.5561 - categorical_accuracy: 0.0286\n",
      "Epoch 77/1000\n",
      "14/14 [==============================] - 3s 198ms/step - loss: 3.5556 - categorical_accuracy: 0.0292\n",
      "Epoch 78/1000\n",
      "14/14 [==============================] - 2s 158ms/step - loss: 3.5613 - categorical_accuracy: 0.0286\n",
      "Epoch 79/1000\n",
      "14/14 [==============================] - 2s 162ms/step - loss: 3.5579 - categorical_accuracy: 0.0268\n",
      "Epoch 80/1000\n",
      "14/14 [==============================] - 3s 190ms/step - loss: 3.5592 - categorical_accuracy: 0.0274\n",
      "Epoch 81/1000\n",
      "14/14 [==============================] - 2s 174ms/step - loss: 3.5561 - categorical_accuracy: 0.0226\n",
      "Epoch 82/1000\n",
      "14/14 [==============================] - 2s 167ms/step - loss: 3.5559 - categorical_accuracy: 0.0292\n",
      "Epoch 83/1000\n",
      "14/14 [==============================] - 3s 181ms/step - loss: 3.5559 - categorical_accuracy: 0.0286\n",
      "Epoch 84/1000\n",
      "14/14 [==============================] - 2s 155ms/step - loss: 3.5552 - categorical_accuracy: 0.0280\n",
      "Epoch 85/1000\n",
      "14/14 [==============================] - 2s 163ms/step - loss: 3.5578 - categorical_accuracy: 0.0286\n",
      "Epoch 86/1000\n",
      "14/14 [==============================] - 3s 182ms/step - loss: 3.5578 - categorical_accuracy: 0.0268\n",
      "Epoch 87/1000\n",
      "14/14 [==============================] - 2s 171ms/step - loss: 3.5567 - categorical_accuracy: 0.0286\n",
      "Epoch 88/1000\n",
      "14/14 [==============================] - 2s 166ms/step - loss: 3.5592 - categorical_accuracy: 0.0280\n",
      "Epoch 89/1000\n",
      "14/14 [==============================] - 2s 167ms/step - loss: 3.5594 - categorical_accuracy: 0.0280\n",
      "Epoch 90/1000\n",
      "14/14 [==============================] - 2s 171ms/step - loss: 3.5571 - categorical_accuracy: 0.0238\n",
      "Epoch 91/1000\n",
      "14/14 [==============================] - 3s 179ms/step - loss: 3.5569 - categorical_accuracy: 0.0286\n",
      "Epoch 92/1000\n",
      "14/14 [==============================] - 3s 191ms/step - loss: 3.5576 - categorical_accuracy: 0.0286\n",
      "Epoch 93/1000\n",
      "14/14 [==============================] - 2s 169ms/step - loss: 3.5550 - categorical_accuracy: 0.0292\n",
      "Epoch 94/1000\n",
      "14/14 [==============================] - 2s 178ms/step - loss: 3.5574 - categorical_accuracy: 0.0292\n",
      "Epoch 95/1000\n",
      "14/14 [==============================] - 2s 170ms/step - loss: 3.5557 - categorical_accuracy: 0.0268\n",
      "Epoch 96/1000\n",
      "14/14 [==============================] - 2s 167ms/step - loss: 3.5555 - categorical_accuracy: 0.0286\n",
      "Epoch 97/1000\n",
      "14/14 [==============================] - 2s 167ms/step - loss: 3.5585 - categorical_accuracy: 0.0292\n",
      "Epoch 98/1000\n",
      "14/14 [==============================] - 2s 162ms/step - loss: 3.5590 - categorical_accuracy: 0.0286\n",
      "Epoch 99/1000\n",
      "14/14 [==============================] - 2s 163ms/step - loss: 3.5562 - categorical_accuracy: 0.0286\n",
      "Epoch 100/1000\n",
      "14/14 [==============================] - 2s 166ms/step - loss: 3.5568 - categorical_accuracy: 0.0298\n",
      "Epoch 101/1000\n",
      "14/14 [==============================] - 2s 168ms/step - loss: 3.5570 - categorical_accuracy: 0.0286\n",
      "Epoch 102/1000\n",
      "14/14 [==============================] - 2s 169ms/step - loss: 3.5574 - categorical_accuracy: 0.0226\n",
      "Epoch 103/1000\n",
      "14/14 [==============================] - 2s 163ms/step - loss: 3.5568 - categorical_accuracy: 0.0292\n",
      "Epoch 104/1000\n",
      "14/14 [==============================] - 2s 176ms/step - loss: 3.5580 - categorical_accuracy: 0.0280\n",
      "Epoch 105/1000\n",
      "14/14 [==============================] - 2s 174ms/step - loss: 3.5600 - categorical_accuracy: 0.0292\n",
      "Epoch 106/1000\n",
      "14/14 [==============================] - 2s 167ms/step - loss: 3.5558 - categorical_accuracy: 0.0286\n",
      "Epoch 107/1000\n",
      "14/14 [==============================] - 2s 178ms/step - loss: 3.5587 - categorical_accuracy: 0.0292\n",
      "Epoch 108/1000\n",
      "14/14 [==============================] - 3s 179ms/step - loss: 3.5569 - categorical_accuracy: 0.0280\n",
      "Epoch 109/1000\n",
      "14/14 [==============================] - 2s 165ms/step - loss: 3.5554 - categorical_accuracy: 0.0286\n",
      "Epoch 110/1000\n",
      "14/14 [==============================] - 2s 171ms/step - loss: 3.5556 - categorical_accuracy: 0.0280\n",
      "Epoch 111/1000\n",
      "14/14 [==============================] - 2s 168ms/step - loss: 3.5574 - categorical_accuracy: 0.0286\n",
      "Epoch 112/1000\n",
      "14/14 [==============================] - 2s 162ms/step - loss: 3.5561 - categorical_accuracy: 0.0292\n",
      "Epoch 113/1000\n",
      "14/14 [==============================] - 2s 164ms/step - loss: 3.5549 - categorical_accuracy: 0.0286\n",
      "Epoch 114/1000\n",
      "14/14 [==============================] - 2s 163ms/step - loss: 3.5556 - categorical_accuracy: 0.0286\n",
      "Epoch 115/1000\n",
      "14/14 [==============================] - 2s 164ms/step - loss: 3.5575 - categorical_accuracy: 0.0280\n",
      "Epoch 116/1000\n",
      "14/14 [==============================] - 2s 163ms/step - loss: 3.5570 - categorical_accuracy: 0.0286\n",
      "Epoch 117/1000\n",
      "14/14 [==============================] - 2s 164ms/step - loss: 3.5551 - categorical_accuracy: 0.0280\n",
      "Epoch 118/1000\n",
      "14/14 [==============================] - 2s 164ms/step - loss: 3.5549 - categorical_accuracy: 0.0292\n",
      "Epoch 119/1000\n",
      "14/14 [==============================] - 2s 162ms/step - loss: 3.5598 - categorical_accuracy: 0.0292\n",
      "Epoch 120/1000\n",
      "14/14 [==============================] - 2s 160ms/step - loss: 3.5602 - categorical_accuracy: 0.0280\n",
      "Epoch 121/1000\n",
      "14/14 [==============================] - 2s 161ms/step - loss: 3.5564 - categorical_accuracy: 0.0280\n",
      "Epoch 122/1000\n",
      "14/14 [==============================] - 2s 158ms/step - loss: 3.5559 - categorical_accuracy: 0.0292\n",
      "Epoch 123/1000\n",
      "14/14 [==============================] - 2s 155ms/step - loss: 3.5578 - categorical_accuracy: 0.0286\n",
      "Epoch 124/1000\n",
      "14/14 [==============================] - 2s 156ms/step - loss: 3.5559 - categorical_accuracy: 0.0280\n",
      "Epoch 125/1000\n",
      "14/14 [==============================] - 2s 156ms/step - loss: 3.5557 - categorical_accuracy: 0.0268\n",
      "Epoch 126/1000\n",
      "14/14 [==============================] - 2s 155ms/step - loss: 3.5552 - categorical_accuracy: 0.0286\n",
      "Epoch 127/1000\n",
      "14/14 [==============================] - 2s 156ms/step - loss: 3.5567 - categorical_accuracy: 0.0286\n",
      "Epoch 128/1000\n",
      "14/14 [==============================] - 2s 158ms/step - loss: 3.5566 - categorical_accuracy: 0.0286\n",
      "Epoch 129/1000\n",
      "14/14 [==============================] - 2s 163ms/step - loss: 3.5548 - categorical_accuracy: 0.0280\n",
      "Epoch 130/1000\n",
      "14/14 [==============================] - 2s 163ms/step - loss: 3.5560 - categorical_accuracy: 0.0286\n",
      "Epoch 131/1000\n",
      "14/14 [==============================] - 2s 156ms/step - loss: 3.5559 - categorical_accuracy: 0.0292\n",
      "Epoch 132/1000\n",
      "14/14 [==============================] - 2s 156ms/step - loss: 3.5561 - categorical_accuracy: 0.0286\n",
      "Epoch 133/1000\n",
      "14/14 [==============================] - 2s 156ms/step - loss: 3.5548 - categorical_accuracy: 0.0286\n",
      "Epoch 134/1000\n",
      "14/14 [==============================] - 2s 159ms/step - loss: 3.5571 - categorical_accuracy: 0.0286\n",
      "Epoch 135/1000\n",
      "14/14 [==============================] - 2s 163ms/step - loss: 3.5579 - categorical_accuracy: 0.0286\n",
      "Epoch 136/1000\n",
      "14/14 [==============================] - 2s 161ms/step - loss: 3.5563 - categorical_accuracy: 0.0292\n",
      "Epoch 137/1000\n",
      "14/14 [==============================] - 2s 176ms/step - loss: 3.5551 - categorical_accuracy: 0.0292\n",
      "Epoch 138/1000\n",
      "14/14 [==============================] - 2s 168ms/step - loss: 3.5561 - categorical_accuracy: 0.0286\n",
      "Epoch 139/1000\n",
      "14/14 [==============================] - 3s 178ms/step - loss: 3.5564 - categorical_accuracy: 0.0280\n",
      "Epoch 140/1000\n",
      "14/14 [==============================] - 2s 165ms/step - loss: 3.5571 - categorical_accuracy: 0.0286\n",
      "Epoch 141/1000\n",
      "14/14 [==============================] - 2s 171ms/step - loss: 3.5558 - categorical_accuracy: 0.0286\n",
      "Epoch 142/1000\n",
      "14/14 [==============================] - 2s 161ms/step - loss: 3.5556 - categorical_accuracy: 0.0292\n"
     ]
    },
    {
     "name": "stdout",
     "output_type": "stream",
     "text": [
      "Epoch 143/1000\n",
      "14/14 [==============================] - 2s 156ms/step - loss: 3.5558 - categorical_accuracy: 0.0262\n",
      "Epoch 144/1000\n",
      "14/14 [==============================] - 2s 160ms/step - loss: 3.5557 - categorical_accuracy: 0.0286\n",
      "Epoch 145/1000\n",
      "14/14 [==============================] - 2s 156ms/step - loss: 3.5567 - categorical_accuracy: 0.0286\n",
      "Epoch 146/1000\n",
      "14/14 [==============================] - 2s 164ms/step - loss: 3.5570 - categorical_accuracy: 0.0286\n",
      "Epoch 147/1000\n",
      "14/14 [==============================] - 2s 164ms/step - loss: 3.5559 - categorical_accuracy: 0.0286\n",
      "Epoch 148/1000\n",
      "14/14 [==============================] - 2s 169ms/step - loss: 3.5556 - categorical_accuracy: 0.0286\n",
      "Epoch 149/1000\n",
      "14/14 [==============================] - 3s 231ms/step - loss: 3.5559 - categorical_accuracy: 0.0286\n",
      "Epoch 150/1000\n",
      "14/14 [==============================] - 3s 200ms/step - loss: 3.5553 - categorical_accuracy: 0.0286\n",
      "Epoch 151/1000\n",
      "14/14 [==============================] - 2s 174ms/step - loss: 3.5565 - categorical_accuracy: 0.0292\n",
      "Epoch 152/1000\n",
      "14/14 [==============================] - 2s 178ms/step - loss: 3.5553 - categorical_accuracy: 0.0280\n",
      "Epoch 153/1000\n",
      "14/14 [==============================] - 2s 165ms/step - loss: 3.5571 - categorical_accuracy: 0.0286\n",
      "Epoch 154/1000\n",
      "14/14 [==============================] - 2s 165ms/step - loss: 3.5569 - categorical_accuracy: 0.0286\n",
      "Epoch 155/1000\n",
      "14/14 [==============================] - 2s 174ms/step - loss: 3.5575 - categorical_accuracy: 0.0286\n",
      "Epoch 156/1000\n",
      "14/14 [==============================] - 2s 171ms/step - loss: 3.5571 - categorical_accuracy: 0.0280\n",
      "Epoch 157/1000\n",
      "14/14 [==============================] - 2s 171ms/step - loss: 3.5561 - categorical_accuracy: 0.0280\n",
      "Epoch 158/1000\n",
      "14/14 [==============================] - 2s 172ms/step - loss: 3.5571 - categorical_accuracy: 0.0315\n",
      "Epoch 159/1000\n",
      "14/14 [==============================] - 3s 197ms/step - loss: 3.5561 - categorical_accuracy: 0.0286\n",
      "Epoch 160/1000\n",
      "14/14 [==============================] - 2s 166ms/step - loss: 3.5556 - categorical_accuracy: 0.0286\n",
      "Epoch 161/1000\n",
      "14/14 [==============================] - 2s 174ms/step - loss: 3.5557 - categorical_accuracy: 0.0310\n",
      "Epoch 162/1000\n",
      "14/14 [==============================] - 2s 175ms/step - loss: 3.5545 - categorical_accuracy: 0.0292\n",
      "Epoch 163/1000\n",
      "14/14 [==============================] - 3s 178ms/step - loss: 3.5551 - categorical_accuracy: 0.0286\n",
      "Epoch 164/1000\n",
      "14/14 [==============================] - 2s 175ms/step - loss: 3.5555 - categorical_accuracy: 0.0286\n",
      "Epoch 165/1000\n",
      "14/14 [==============================] - 2s 172ms/step - loss: 3.5564 - categorical_accuracy: 0.0292\n",
      "Epoch 166/1000\n",
      "14/14 [==============================] - 2s 167ms/step - loss: 3.5568 - categorical_accuracy: 0.0220\n",
      "Epoch 167/1000\n",
      "14/14 [==============================] - 3s 197ms/step - loss: 3.5556 - categorical_accuracy: 0.0262\n",
      "Epoch 168/1000\n",
      "14/14 [==============================] - 2s 172ms/step - loss: 3.5555 - categorical_accuracy: 0.0298\n",
      "Epoch 169/1000\n",
      "14/14 [==============================] - 3s 180ms/step - loss: 3.5556 - categorical_accuracy: 0.0286\n",
      "Epoch 170/1000\n",
      "14/14 [==============================] - 3s 185ms/step - loss: 3.5563 - categorical_accuracy: 0.0286\n",
      "Epoch 171/1000\n",
      "14/14 [==============================] - 2s 177ms/step - loss: 3.5556 - categorical_accuracy: 0.0286\n",
      "Epoch 172/1000\n",
      "14/14 [==============================] - 2s 164ms/step - loss: 3.5555 - categorical_accuracy: 0.0286\n",
      "Epoch 173/1000\n",
      "14/14 [==============================] - 2s 163ms/step - loss: 3.5543 - categorical_accuracy: 0.0280\n",
      "Epoch 174/1000\n",
      "14/14 [==============================] - 3s 192ms/step - loss: 3.5566 - categorical_accuracy: 0.02861s - loss: 3.5580 - categori\n",
      "Epoch 175/1000\n",
      "14/14 [==============================] - 3s 184ms/step - loss: 3.5567 - categorical_accuracy: 0.0292\n",
      "Epoch 176/1000\n",
      "14/14 [==============================] - 2s 177ms/step - loss: 3.5559 - categorical_accuracy: 0.0280\n",
      "Epoch 177/1000\n",
      "14/14 [==============================] - 3s 185ms/step - loss: 3.5556 - categorical_accuracy: 0.0280\n",
      "Epoch 178/1000\n",
      "14/14 [==============================] - 2s 163ms/step - loss: 3.5616 - categorical_accuracy: 0.0286\n",
      "Epoch 179/1000\n",
      "14/14 [==============================] - 2s 166ms/step - loss: 3.5555 - categorical_accuracy: 0.0286\n",
      "Epoch 180/1000\n",
      "14/14 [==============================] - 2s 159ms/step - loss: 3.5555 - categorical_accuracy: 0.0286\n",
      "Epoch 181/1000\n",
      "14/14 [==============================] - 2s 154ms/step - loss: 3.5558 - categorical_accuracy: 0.0286\n",
      "Epoch 182/1000\n",
      "14/14 [==============================] - 2s 159ms/step - loss: 3.5558 - categorical_accuracy: 0.0280\n",
      "Epoch 183/1000\n",
      "14/14 [==============================] - 3s 184ms/step - loss: 3.5583 - categorical_accuracy: 0.0268\n",
      "Epoch 184/1000\n",
      "14/14 [==============================] - 3s 188ms/step - loss: 3.5553 - categorical_accuracy: 0.0286\n",
      "Epoch 185/1000\n",
      "14/14 [==============================] - 2s 166ms/step - loss: 3.5553 - categorical_accuracy: 0.0286\n",
      "Epoch 186/1000\n",
      "14/14 [==============================] - 2s 160ms/step - loss: 3.5552 - categorical_accuracy: 0.0286\n",
      "Epoch 187/1000\n",
      "14/14 [==============================] - 2s 163ms/step - loss: 3.5561 - categorical_accuracy: 0.0286\n",
      "Epoch 188/1000\n",
      "14/14 [==============================] - 2s 169ms/step - loss: 3.5578 - categorical_accuracy: 0.0286\n",
      "Epoch 189/1000\n",
      "14/14 [==============================] - 3s 183ms/step - loss: 3.5556 - categorical_accuracy: 0.0292\n",
      "Epoch 190/1000\n",
      "14/14 [==============================] - 2s 174ms/step - loss: 3.5686 - categorical_accuracy: 0.0280\n",
      "Epoch 191/1000\n",
      "14/14 [==============================] - 3s 188ms/step - loss: 3.5566 - categorical_accuracy: 0.0286\n",
      "Epoch 192/1000\n",
      "14/14 [==============================] - 2s 175ms/step - loss: 3.5599 - categorical_accuracy: 0.0274\n",
      "Epoch 193/1000\n",
      "14/14 [==============================] - 3s 177ms/step - loss: 3.5583 - categorical_accuracy: 0.0286\n",
      "Epoch 194/1000\n",
      "14/14 [==============================] - 2s 171ms/step - loss: 3.5587 - categorical_accuracy: 0.0286\n",
      "Epoch 195/1000\n",
      "14/14 [==============================] - 2s 172ms/step - loss: 3.5543 - categorical_accuracy: 0.0280\n",
      "Epoch 196/1000\n",
      "14/14 [==============================] - 2s 172ms/step - loss: 3.5587 - categorical_accuracy: 0.0274\n",
      "Epoch 197/1000\n",
      "14/14 [==============================] - 3s 180ms/step - loss: 3.5556 - categorical_accuracy: 0.0286\n",
      "Epoch 198/1000\n",
      "14/14 [==============================] - 3s 180ms/step - loss: 3.5575 - categorical_accuracy: 0.0286\n",
      "Epoch 199/1000\n",
      "14/14 [==============================] - 3s 184ms/step - loss: 3.5550 - categorical_accuracy: 0.0286\n",
      "Epoch 200/1000\n",
      "14/14 [==============================] - 3s 183ms/step - loss: 3.5555 - categorical_accuracy: 0.0286\n",
      "Epoch 201/1000\n",
      "14/14 [==============================] - 3s 180ms/step - loss: 3.5553 - categorical_accuracy: 0.0286\n",
      "Epoch 202/1000\n",
      "14/14 [==============================] - 2s 173ms/step - loss: 3.5555 - categorical_accuracy: 0.0286\n",
      "Epoch 203/1000\n",
      "14/14 [==============================] - 2s 170ms/step - loss: 3.5554 - categorical_accuracy: 0.0286\n",
      "Epoch 204/1000\n",
      "14/14 [==============================] - 2s 165ms/step - loss: 3.5570 - categorical_accuracy: 0.0286\n",
      "Epoch 205/1000\n",
      "14/14 [==============================] - 2s 169ms/step - loss: 3.5552 - categorical_accuracy: 0.0286\n",
      "Epoch 206/1000\n",
      "14/14 [==============================] - 2s 164ms/step - loss: 3.5555 - categorical_accuracy: 0.0286\n",
      "Epoch 207/1000\n",
      "14/14 [==============================] - 2s 164ms/step - loss: 3.5555 - categorical_accuracy: 0.0286\n",
      "Epoch 208/1000\n",
      "14/14 [==============================] - 2s 162ms/step - loss: 3.5560 - categorical_accuracy: 0.0286\n",
      "Epoch 209/1000\n",
      "14/14 [==============================] - 2s 167ms/step - loss: 3.5555 - categorical_accuracy: 0.0286\n",
      "Epoch 210/1000\n",
      "14/14 [==============================] - 2s 176ms/step - loss: 3.5587 - categorical_accuracy: 0.0286\n",
      "Epoch 211/1000\n",
      "14/14 [==============================] - 3s 178ms/step - loss: 3.5551 - categorical_accuracy: 0.0286\n",
      "Epoch 212/1000\n",
      "14/14 [==============================] - 2s 169ms/step - loss: 3.5545 - categorical_accuracy: 0.0292\n",
      "Epoch 213/1000\n"
     ]
    },
    {
     "name": "stdout",
     "output_type": "stream",
     "text": [
      "14/14 [==============================] - 2s 161ms/step - loss: 3.5588 - categorical_accuracy: 0.0286\n",
      "Epoch 214/1000\n",
      "14/14 [==============================] - 2s 173ms/step - loss: 3.5558 - categorical_accuracy: 0.0286\n",
      "Epoch 215/1000\n",
      "14/14 [==============================] - 2s 165ms/step - loss: 3.5554 - categorical_accuracy: 0.0286\n",
      "Epoch 216/1000\n",
      "14/14 [==============================] - 3s 184ms/step - loss: 3.5570 - categorical_accuracy: 0.0292\n",
      "Epoch 217/1000\n",
      "14/14 [==============================] - 3s 179ms/step - loss: 3.5549 - categorical_accuracy: 0.0286\n",
      "Epoch 218/1000\n",
      "14/14 [==============================] - 2s 164ms/step - loss: 3.5552 - categorical_accuracy: 0.0286\n",
      "Epoch 219/1000\n",
      "14/14 [==============================] - 2s 169ms/step - loss: 3.5555 - categorical_accuracy: 0.0286\n",
      "Epoch 220/1000\n",
      "14/14 [==============================] - 2s 163ms/step - loss: 3.5572 - categorical_accuracy: 0.0286\n",
      "Epoch 221/1000\n",
      "14/14 [==============================] - 2s 154ms/step - loss: 3.5559 - categorical_accuracy: 0.0262\n",
      "Epoch 222/1000\n",
      "14/14 [==============================] - 2s 157ms/step - loss: 3.5554 - categorical_accuracy: 0.0232\n",
      "Epoch 223/1000\n",
      "14/14 [==============================] - 2s 156ms/step - loss: 3.5555 - categorical_accuracy: 0.0250\n",
      "Epoch 224/1000\n",
      "14/14 [==============================] - 2s 156ms/step - loss: 3.5555 - categorical_accuracy: 0.0286\n",
      "Epoch 225/1000\n",
      "14/14 [==============================] - 2s 162ms/step - loss: 3.5555 - categorical_accuracy: 0.0244\n",
      "Epoch 226/1000\n",
      "14/14 [==============================] - 2s 156ms/step - loss: 3.5551 - categorical_accuracy: 0.0286\n",
      "Epoch 227/1000\n",
      "14/14 [==============================] - 2s 167ms/step - loss: 3.5556 - categorical_accuracy: 0.0286\n",
      "Epoch 228/1000\n",
      "14/14 [==============================] - 2s 170ms/step - loss: 3.5553 - categorical_accuracy: 0.0280\n",
      "Epoch 229/1000\n",
      "14/14 [==============================] - 2s 170ms/step - loss: 3.5562 - categorical_accuracy: 0.0286\n",
      "Epoch 230/1000\n",
      "14/14 [==============================] - 2s 174ms/step - loss: 3.5556 - categorical_accuracy: 0.0292\n",
      "Epoch 231/1000\n",
      "14/14 [==============================] - 2s 162ms/step - loss: 3.5546 - categorical_accuracy: 0.0286\n",
      "Epoch 232/1000\n",
      "14/14 [==============================] - 2s 161ms/step - loss: 3.5555 - categorical_accuracy: 0.0286\n",
      "Epoch 233/1000\n",
      "14/14 [==============================] - 2s 171ms/step - loss: 3.5578 - categorical_accuracy: 0.0286\n",
      "Epoch 234/1000\n",
      "14/14 [==============================] - 2s 165ms/step - loss: 3.5552 - categorical_accuracy: 0.0286\n",
      "Epoch 235/1000\n",
      "14/14 [==============================] - 3s 204ms/step - loss: 3.5549 - categorical_accuracy: 0.0286\n",
      "Epoch 236/1000\n",
      "14/14 [==============================] - 2s 175ms/step - loss: 3.5555 - categorical_accuracy: 0.0286\n",
      "Epoch 237/1000\n",
      "14/14 [==============================] - 3s 178ms/step - loss: 3.5552 - categorical_accuracy: 0.0286\n",
      "Epoch 238/1000\n",
      "14/14 [==============================] - 3s 187ms/step - loss: 3.5566 - categorical_accuracy: 0.0286\n",
      "Epoch 239/1000\n",
      "14/14 [==============================] - 2s 176ms/step - loss: 3.5549 - categorical_accuracy: 0.0286\n",
      "Epoch 240/1000\n",
      "14/14 [==============================] - 2s 168ms/step - loss: 3.5646 - categorical_accuracy: 0.0292\n",
      "Epoch 241/1000\n",
      "14/14 [==============================] - 2s 169ms/step - loss: 3.5560 - categorical_accuracy: 0.0286\n",
      "Epoch 242/1000\n",
      "14/14 [==============================] - 2s 170ms/step - loss: 3.5597 - categorical_accuracy: 0.0280\n",
      "Epoch 243/1000\n",
      "14/14 [==============================] - 2s 172ms/step - loss: 3.5553 - categorical_accuracy: 0.0292\n",
      "Epoch 244/1000\n",
      "14/14 [==============================] - 2s 174ms/step - loss: 3.5574 - categorical_accuracy: 0.0286\n",
      "Epoch 245/1000\n",
      "14/14 [==============================] - 3s 190ms/step - loss: 3.5564 - categorical_accuracy: 0.0286\n",
      "Epoch 246/1000\n",
      "14/14 [==============================] - 2s 171ms/step - loss: 3.5578 - categorical_accuracy: 0.0292\n",
      "Epoch 247/1000\n",
      "14/14 [==============================] - 2s 170ms/step - loss: 3.5556 - categorical_accuracy: 0.0286\n",
      "Epoch 248/1000\n",
      "14/14 [==============================] - 3s 185ms/step - loss: 3.5560 - categorical_accuracy: 0.0286\n",
      "Epoch 249/1000\n",
      "14/14 [==============================] - 2s 174ms/step - loss: 3.5555 - categorical_accuracy: 0.0286\n",
      "Epoch 250/1000\n",
      "14/14 [==============================] - 2s 172ms/step - loss: 3.5555 - categorical_accuracy: 0.0286\n",
      "Epoch 251/1000\n",
      "14/14 [==============================] - 2s 177ms/step - loss: 3.5553 - categorical_accuracy: 0.0286\n",
      "Epoch 252/1000\n",
      "14/14 [==============================] - 2s 171ms/step - loss: 3.5570 - categorical_accuracy: 0.0286\n",
      "Epoch 253/1000\n",
      "14/14 [==============================] - 2s 168ms/step - loss: 3.5560 - categorical_accuracy: 0.0286\n",
      "Epoch 254/1000\n",
      "14/14 [==============================] - 2s 170ms/step - loss: 3.5555 - categorical_accuracy: 0.0292\n",
      "Epoch 255/1000\n",
      "14/14 [==============================] - 2s 168ms/step - loss: 3.5555 - categorical_accuracy: 0.0286\n",
      "Epoch 256/1000\n",
      "14/14 [==============================] - 2s 176ms/step - loss: 3.5554 - categorical_accuracy: 0.0280\n",
      "Epoch 257/1000\n",
      "14/14 [==============================] - 2s 163ms/step - loss: 3.5554 - categorical_accuracy: 0.0286\n",
      "Epoch 258/1000\n",
      "14/14 [==============================] - 2s 166ms/step - loss: 3.5556 - categorical_accuracy: 0.0286\n",
      "Epoch 259/1000\n",
      "14/14 [==============================] - 2s 156ms/step - loss: 3.5554 - categorical_accuracy: 0.0286\n",
      "Epoch 260/1000\n",
      "14/14 [==============================] - 3s 191ms/step - loss: 3.5556 - categorical_accuracy: 0.0286\n",
      "Epoch 261/1000\n",
      "14/14 [==============================] - 2s 172ms/step - loss: 3.5551 - categorical_accuracy: 0.0280\n",
      "Epoch 262/1000\n",
      "14/14 [==============================] - 2s 168ms/step - loss: 3.5583 - categorical_accuracy: 0.0280\n",
      "Epoch 263/1000\n",
      " 9/14 [==================>...........] - ETA: 0s - loss: 3.5553 - categorical_accuracy: 0.0234"
     ]
    },
    {
     "ename": "KeyboardInterrupt",
     "evalue": "",
     "output_type": "error",
     "traceback": [
      "\u001b[1;31m---------------------------------------------------------------------------\u001b[0m",
      "\u001b[1;31mKeyboardInterrupt\u001b[0m                         Traceback (most recent call last)",
      "\u001b[1;32m~\\AppData\\Local\\Temp/ipykernel_27584/570359940.py\u001b[0m in \u001b[0;36m<module>\u001b[1;34m\u001b[0m\n\u001b[0;32m      1\u001b[0m \u001b[1;31m# Train the built LSTM neural network\u001b[0m\u001b[1;33m\u001b[0m\u001b[1;33m\u001b[0m\u001b[1;33m\u001b[0m\u001b[0m\n\u001b[1;32m----> 2\u001b[1;33m \u001b[0mmodel\u001b[0m\u001b[1;33m.\u001b[0m\u001b[0mfit\u001b[0m\u001b[1;33m(\u001b[0m\u001b[0mX_train\u001b[0m\u001b[1;33m,\u001b[0m \u001b[0my_train\u001b[0m\u001b[1;33m,\u001b[0m \u001b[0mbatch_size\u001b[0m\u001b[1;33m=\u001b[0m\u001b[1;36m128\u001b[0m\u001b[1;33m,\u001b[0m \u001b[0mepochs\u001b[0m\u001b[1;33m=\u001b[0m\u001b[1;36m1000\u001b[0m\u001b[1;33m,\u001b[0m \u001b[0mcallbacks\u001b[0m\u001b[1;33m=\u001b[0m\u001b[1;33m[\u001b[0m\u001b[0msignLangModule\u001b[0m\u001b[1;33m.\u001b[0m\u001b[0mtb_callback\u001b[0m\u001b[1;33m]\u001b[0m\u001b[1;33m)\u001b[0m\u001b[1;33m\u001b[0m\u001b[1;33m\u001b[0m\u001b[0m\n\u001b[0m",
      "\u001b[1;32m~\\anaconda3\\envs\\sign_language_to_speech\\lib\\site-packages\\tensorflow\\python\\keras\\engine\\training.py\u001b[0m in \u001b[0;36mfit\u001b[1;34m(self, x, y, batch_size, epochs, verbose, callbacks, validation_split, validation_data, shuffle, class_weight, sample_weight, initial_epoch, steps_per_epoch, validation_steps, validation_batch_size, validation_freq, max_queue_size, workers, use_multiprocessing)\u001b[0m\n\u001b[0;32m   1181\u001b[0m                 _r=1):\n\u001b[0;32m   1182\u001b[0m               \u001b[0mcallbacks\u001b[0m\u001b[1;33m.\u001b[0m\u001b[0mon_train_batch_begin\u001b[0m\u001b[1;33m(\u001b[0m\u001b[0mstep\u001b[0m\u001b[1;33m)\u001b[0m\u001b[1;33m\u001b[0m\u001b[1;33m\u001b[0m\u001b[0m\n\u001b[1;32m-> 1183\u001b[1;33m               \u001b[0mtmp_logs\u001b[0m \u001b[1;33m=\u001b[0m \u001b[0mself\u001b[0m\u001b[1;33m.\u001b[0m\u001b[0mtrain_function\u001b[0m\u001b[1;33m(\u001b[0m\u001b[0miterator\u001b[0m\u001b[1;33m)\u001b[0m\u001b[1;33m\u001b[0m\u001b[1;33m\u001b[0m\u001b[0m\n\u001b[0m\u001b[0;32m   1184\u001b[0m               \u001b[1;32mif\u001b[0m \u001b[0mdata_handler\u001b[0m\u001b[1;33m.\u001b[0m\u001b[0mshould_sync\u001b[0m\u001b[1;33m:\u001b[0m\u001b[1;33m\u001b[0m\u001b[1;33m\u001b[0m\u001b[0m\n\u001b[0;32m   1185\u001b[0m                 \u001b[0mcontext\u001b[0m\u001b[1;33m.\u001b[0m\u001b[0masync_wait\u001b[0m\u001b[1;33m(\u001b[0m\u001b[1;33m)\u001b[0m\u001b[1;33m\u001b[0m\u001b[1;33m\u001b[0m\u001b[0m\n",
      "\u001b[1;32m~\\anaconda3\\envs\\sign_language_to_speech\\lib\\site-packages\\tensorflow\\python\\eager\\def_function.py\u001b[0m in \u001b[0;36m__call__\u001b[1;34m(self, *args, **kwds)\u001b[0m\n\u001b[0;32m    887\u001b[0m \u001b[1;33m\u001b[0m\u001b[0m\n\u001b[0;32m    888\u001b[0m       \u001b[1;32mwith\u001b[0m \u001b[0mOptionalXlaContext\u001b[0m\u001b[1;33m(\u001b[0m\u001b[0mself\u001b[0m\u001b[1;33m.\u001b[0m\u001b[0m_jit_compile\u001b[0m\u001b[1;33m)\u001b[0m\u001b[1;33m:\u001b[0m\u001b[1;33m\u001b[0m\u001b[1;33m\u001b[0m\u001b[0m\n\u001b[1;32m--> 889\u001b[1;33m         \u001b[0mresult\u001b[0m \u001b[1;33m=\u001b[0m \u001b[0mself\u001b[0m\u001b[1;33m.\u001b[0m\u001b[0m_call\u001b[0m\u001b[1;33m(\u001b[0m\u001b[1;33m*\u001b[0m\u001b[0margs\u001b[0m\u001b[1;33m,\u001b[0m \u001b[1;33m**\u001b[0m\u001b[0mkwds\u001b[0m\u001b[1;33m)\u001b[0m\u001b[1;33m\u001b[0m\u001b[1;33m\u001b[0m\u001b[0m\n\u001b[0m\u001b[0;32m    890\u001b[0m \u001b[1;33m\u001b[0m\u001b[0m\n\u001b[0;32m    891\u001b[0m       \u001b[0mnew_tracing_count\u001b[0m \u001b[1;33m=\u001b[0m \u001b[0mself\u001b[0m\u001b[1;33m.\u001b[0m\u001b[0mexperimental_get_tracing_count\u001b[0m\u001b[1;33m(\u001b[0m\u001b[1;33m)\u001b[0m\u001b[1;33m\u001b[0m\u001b[1;33m\u001b[0m\u001b[0m\n",
      "\u001b[1;32m~\\anaconda3\\envs\\sign_language_to_speech\\lib\\site-packages\\tensorflow\\python\\eager\\def_function.py\u001b[0m in \u001b[0;36m_call\u001b[1;34m(self, *args, **kwds)\u001b[0m\n\u001b[0;32m    915\u001b[0m       \u001b[1;31m# In this case we have created variables on the first call, so we run the\u001b[0m\u001b[1;33m\u001b[0m\u001b[1;33m\u001b[0m\u001b[1;33m\u001b[0m\u001b[0m\n\u001b[0;32m    916\u001b[0m       \u001b[1;31m# defunned version which is guaranteed to never create variables.\u001b[0m\u001b[1;33m\u001b[0m\u001b[1;33m\u001b[0m\u001b[1;33m\u001b[0m\u001b[0m\n\u001b[1;32m--> 917\u001b[1;33m       \u001b[1;32mreturn\u001b[0m \u001b[0mself\u001b[0m\u001b[1;33m.\u001b[0m\u001b[0m_stateless_fn\u001b[0m\u001b[1;33m(\u001b[0m\u001b[1;33m*\u001b[0m\u001b[0margs\u001b[0m\u001b[1;33m,\u001b[0m \u001b[1;33m**\u001b[0m\u001b[0mkwds\u001b[0m\u001b[1;33m)\u001b[0m  \u001b[1;31m# pylint: disable=not-callable\u001b[0m\u001b[1;33m\u001b[0m\u001b[1;33m\u001b[0m\u001b[0m\n\u001b[0m\u001b[0;32m    918\u001b[0m     \u001b[1;32melif\u001b[0m \u001b[0mself\u001b[0m\u001b[1;33m.\u001b[0m\u001b[0m_stateful_fn\u001b[0m \u001b[1;32mis\u001b[0m \u001b[1;32mnot\u001b[0m \u001b[1;32mNone\u001b[0m\u001b[1;33m:\u001b[0m\u001b[1;33m\u001b[0m\u001b[1;33m\u001b[0m\u001b[0m\n\u001b[0;32m    919\u001b[0m       \u001b[1;31m# Release the lock early so that multiple threads can perform the call\u001b[0m\u001b[1;33m\u001b[0m\u001b[1;33m\u001b[0m\u001b[1;33m\u001b[0m\u001b[0m\n",
      "\u001b[1;32m~\\anaconda3\\envs\\sign_language_to_speech\\lib\\site-packages\\tensorflow\\python\\eager\\function.py\u001b[0m in \u001b[0;36m__call__\u001b[1;34m(self, *args, **kwargs)\u001b[0m\n\u001b[0;32m   3021\u001b[0m       (graph_function,\n\u001b[0;32m   3022\u001b[0m        filtered_flat_args) = self._maybe_define_function(args, kwargs)\n\u001b[1;32m-> 3023\u001b[1;33m     return graph_function._call_flat(\n\u001b[0m\u001b[0;32m   3024\u001b[0m         filtered_flat_args, captured_inputs=graph_function.captured_inputs)  # pylint: disable=protected-access\n\u001b[0;32m   3025\u001b[0m \u001b[1;33m\u001b[0m\u001b[0m\n",
      "\u001b[1;32m~\\anaconda3\\envs\\sign_language_to_speech\\lib\\site-packages\\tensorflow\\python\\eager\\function.py\u001b[0m in \u001b[0;36m_call_flat\u001b[1;34m(self, args, captured_inputs, cancellation_manager)\u001b[0m\n\u001b[0;32m   1958\u001b[0m         and executing_eagerly):\n\u001b[0;32m   1959\u001b[0m       \u001b[1;31m# No tape is watching; skip to running the function.\u001b[0m\u001b[1;33m\u001b[0m\u001b[1;33m\u001b[0m\u001b[1;33m\u001b[0m\u001b[0m\n\u001b[1;32m-> 1960\u001b[1;33m       return self._build_call_outputs(self._inference_function.call(\n\u001b[0m\u001b[0;32m   1961\u001b[0m           ctx, args, cancellation_manager=cancellation_manager))\n\u001b[0;32m   1962\u001b[0m     forward_backward = self._select_forward_and_backward_functions(\n",
      "\u001b[1;32m~\\anaconda3\\envs\\sign_language_to_speech\\lib\\site-packages\\tensorflow\\python\\eager\\function.py\u001b[0m in \u001b[0;36mcall\u001b[1;34m(self, ctx, args, cancellation_manager)\u001b[0m\n\u001b[0;32m    589\u001b[0m       \u001b[1;32mwith\u001b[0m \u001b[0m_InterpolateFunctionError\u001b[0m\u001b[1;33m(\u001b[0m\u001b[0mself\u001b[0m\u001b[1;33m)\u001b[0m\u001b[1;33m:\u001b[0m\u001b[1;33m\u001b[0m\u001b[1;33m\u001b[0m\u001b[0m\n\u001b[0;32m    590\u001b[0m         \u001b[1;32mif\u001b[0m \u001b[0mcancellation_manager\u001b[0m \u001b[1;32mis\u001b[0m \u001b[1;32mNone\u001b[0m\u001b[1;33m:\u001b[0m\u001b[1;33m\u001b[0m\u001b[1;33m\u001b[0m\u001b[0m\n\u001b[1;32m--> 591\u001b[1;33m           outputs = execute.execute(\n\u001b[0m\u001b[0;32m    592\u001b[0m               \u001b[0mstr\u001b[0m\u001b[1;33m(\u001b[0m\u001b[0mself\u001b[0m\u001b[1;33m.\u001b[0m\u001b[0msignature\u001b[0m\u001b[1;33m.\u001b[0m\u001b[0mname\u001b[0m\u001b[1;33m)\u001b[0m\u001b[1;33m,\u001b[0m\u001b[1;33m\u001b[0m\u001b[1;33m\u001b[0m\u001b[0m\n\u001b[0;32m    593\u001b[0m               \u001b[0mnum_outputs\u001b[0m\u001b[1;33m=\u001b[0m\u001b[0mself\u001b[0m\u001b[1;33m.\u001b[0m\u001b[0m_num_outputs\u001b[0m\u001b[1;33m,\u001b[0m\u001b[1;33m\u001b[0m\u001b[1;33m\u001b[0m\u001b[0m\n",
      "\u001b[1;32m~\\anaconda3\\envs\\sign_language_to_speech\\lib\\site-packages\\tensorflow\\python\\eager\\execute.py\u001b[0m in \u001b[0;36mquick_execute\u001b[1;34m(op_name, num_outputs, inputs, attrs, ctx, name)\u001b[0m\n\u001b[0;32m     57\u001b[0m   \u001b[1;32mtry\u001b[0m\u001b[1;33m:\u001b[0m\u001b[1;33m\u001b[0m\u001b[1;33m\u001b[0m\u001b[0m\n\u001b[0;32m     58\u001b[0m     \u001b[0mctx\u001b[0m\u001b[1;33m.\u001b[0m\u001b[0mensure_initialized\u001b[0m\u001b[1;33m(\u001b[0m\u001b[1;33m)\u001b[0m\u001b[1;33m\u001b[0m\u001b[1;33m\u001b[0m\u001b[0m\n\u001b[1;32m---> 59\u001b[1;33m     tensors = pywrap_tfe.TFE_Py_Execute(ctx._handle, device_name, op_name,\n\u001b[0m\u001b[0;32m     60\u001b[0m                                         inputs, attrs, num_outputs)\n\u001b[0;32m     61\u001b[0m   \u001b[1;32mexcept\u001b[0m \u001b[0mcore\u001b[0m\u001b[1;33m.\u001b[0m\u001b[0m_NotOkStatusException\u001b[0m \u001b[1;32mas\u001b[0m \u001b[0me\u001b[0m\u001b[1;33m:\u001b[0m\u001b[1;33m\u001b[0m\u001b[1;33m\u001b[0m\u001b[0m\n",
      "\u001b[1;31mKeyboardInterrupt\u001b[0m: "
     ]
    }
   ],
   "source": [
    "# Train the built LSTM neural network \n",
    "model.fit(X_train, y_train, batch_size=128, epochs=1000, callbacks=[signLangModule.tb_callback])"
   ]
  },
  {
   "cell_type": "markdown",
   "id": "acb8764f",
   "metadata": {},
   "source": [
    "# 5. Save Weights"
   ]
  },
  {
   "cell_type": "code",
   "execution_count": 63,
   "id": "c8b0ecc2",
   "metadata": {},
   "outputs": [],
   "source": [
    "# Save weights to be reuse later\n",
    "model.save('sign_language.h5')"
   ]
  },
  {
   "cell_type": "markdown",
   "id": "c02737e4",
   "metadata": {},
   "source": [
    "# 6. Evaluation using Confusion Matrix and Accuracy"
   ]
  },
  {
   "cell_type": "code",
   "execution_count": 14,
   "id": "106d4bca",
   "metadata": {},
   "outputs": [],
   "source": [
    "# Import libraries\n",
    "from sklearn.metrics import multilabel_confusion_matrix, accuracy_score, precision_score, recall_score, f1_score "
   ]
  },
  {
   "cell_type": "code",
   "execution_count": 19,
   "id": "deb3c0cf",
   "metadata": {},
   "outputs": [],
   "source": [
    "yhat = model.predict(X_test)"
   ]
  },
  {
   "cell_type": "code",
   "execution_count": 20,
   "id": "f618bf91",
   "metadata": {},
   "outputs": [],
   "source": [
    "# Convert predictions from one-hot encoded representation to categorical label\n",
    "# eg: 0, 1, 2, ... as compared to [1, 0, 0] \n",
    "ytrue = np.argmax(y_test, axis=1).tolist()\n",
    "yhat = np.argmax(yhat, axis=1).tolist()"
   ]
  },
  {
   "cell_type": "code",
   "execution_count": 21,
   "id": "d9f276f7",
   "metadata": {},
   "outputs": [
    {
     "data": {
      "text/plain": [
       "array([[[408,   0],\n",
       "        [ 12,   0]],\n",
       "\n",
       "       [[408,   0],\n",
       "        [ 12,   0]],\n",
       "\n",
       "       [[408,   0],\n",
       "        [ 12,   0]],\n",
       "\n",
       "       [[408,   0],\n",
       "        [ 12,   0]],\n",
       "\n",
       "       [[408,   0],\n",
       "        [ 12,   0]],\n",
       "\n",
       "       [[408,   0],\n",
       "        [ 12,   0]],\n",
       "\n",
       "       [[408,   0],\n",
       "        [ 12,   0]],\n",
       "\n",
       "       [[408,   0],\n",
       "        [ 12,   0]],\n",
       "\n",
       "       [[408,   0],\n",
       "        [ 12,   0]],\n",
       "\n",
       "       [[408,   0],\n",
       "        [ 12,   0]],\n",
       "\n",
       "       [[408,   0],\n",
       "        [ 12,   0]],\n",
       "\n",
       "       [[408,   0],\n",
       "        [ 12,   0]],\n",
       "\n",
       "       [[408,   0],\n",
       "        [ 12,   0]],\n",
       "\n",
       "       [[408,   0],\n",
       "        [ 12,   0]],\n",
       "\n",
       "       [[408,   0],\n",
       "        [ 12,   0]],\n",
       "\n",
       "       [[408,   0],\n",
       "        [ 12,   0]],\n",
       "\n",
       "       [[408,   0],\n",
       "        [ 12,   0]],\n",
       "\n",
       "       [[408,   0],\n",
       "        [ 12,   0]],\n",
       "\n",
       "       [[  0, 408],\n",
       "        [  0,  12]],\n",
       "\n",
       "       [[408,   0],\n",
       "        [ 12,   0]],\n",
       "\n",
       "       [[408,   0],\n",
       "        [ 12,   0]],\n",
       "\n",
       "       [[408,   0],\n",
       "        [ 12,   0]],\n",
       "\n",
       "       [[408,   0],\n",
       "        [ 12,   0]],\n",
       "\n",
       "       [[408,   0],\n",
       "        [ 12,   0]],\n",
       "\n",
       "       [[408,   0],\n",
       "        [ 12,   0]],\n",
       "\n",
       "       [[408,   0],\n",
       "        [ 12,   0]],\n",
       "\n",
       "       [[408,   0],\n",
       "        [ 12,   0]],\n",
       "\n",
       "       [[408,   0],\n",
       "        [ 12,   0]],\n",
       "\n",
       "       [[408,   0],\n",
       "        [ 12,   0]],\n",
       "\n",
       "       [[408,   0],\n",
       "        [ 12,   0]],\n",
       "\n",
       "       [[408,   0],\n",
       "        [ 12,   0]],\n",
       "\n",
       "       [[408,   0],\n",
       "        [ 12,   0]],\n",
       "\n",
       "       [[408,   0],\n",
       "        [ 12,   0]],\n",
       "\n",
       "       [[408,   0],\n",
       "        [ 12,   0]],\n",
       "\n",
       "       [[408,   0],\n",
       "        [ 12,   0]]], dtype=int64)"
      ]
     },
     "execution_count": 21,
     "metadata": {},
     "output_type": "execute_result"
    }
   ],
   "source": [
    "# Returns a confusion matrix sorted by the label order\n",
    "# Matrix organized as \n",
    "# [[True Negative, False Positive],\n",
    "#  [False Negative, True Positive]]\n",
    "multilabel_confusion_matrix(ytrue, yhat)"
   ]
  },
  {
   "cell_type": "code",
   "execution_count": null,
   "id": "7e3ea19d",
   "metadata": {},
   "outputs": [],
   "source": [
    "# ax = sns.heatmap(multilabel_confusion_matrix(ytrue, yhat), annot=True, fmt='g')"
   ]
  },
  {
   "cell_type": "code",
   "execution_count": 22,
   "id": "469b801b",
   "metadata": {},
   "outputs": [
    {
     "data": {
      "text/plain": [
       "0.02857142857142857"
      ]
     },
     "execution_count": 22,
     "metadata": {},
     "output_type": "execute_result"
    }
   ],
   "source": [
    "# Check accuracy\n",
    "accuracy_score(ytrue, yhat)"
   ]
  },
  {
   "cell_type": "code",
   "execution_count": 60,
   "id": "3fd293c1",
   "metadata": {},
   "outputs": [
    {
     "data": {
      "text/plain": [
       "array([0.30769231, 0.7       , 0.33333333, 0.47368421, 0.54545455,\n",
       "       0.5       , 0.61538462, 0.47368421, 0.75      , 0.84615385,\n",
       "       0.52631579, 0.57142857, 0.5625    , 0.8       , 0.5       ,\n",
       "       0.91666667, 0.83333333, 0.66666667, 0.3       , 0.69230769,\n",
       "       0.33333333, 0.25      , 0.22727273, 0.27272727, 0.75      ,\n",
       "       0.8       , 0.76923077, 1.        , 0.85714286, 0.66666667,\n",
       "       0.78571429, 1.        , 0.84615385, 0.875     , 0.71428571])"
      ]
     },
     "execution_count": 60,
     "metadata": {},
     "output_type": "execute_result"
    }
   ],
   "source": [
    "# Check precision scores for each class (None, micro overall)\n",
    "precision_score(ytrue, yhat, average=None)"
   ]
  },
  {
   "cell_type": "code",
   "execution_count": 61,
   "id": "17bf40a1",
   "metadata": {},
   "outputs": [
    {
     "data": {
      "text/plain": [
       "array([0.66666667, 0.58333333, 0.33333333, 0.75      , 0.5       ,\n",
       "       0.25      , 0.66666667, 0.75      , 0.75      , 0.91666667,\n",
       "       0.83333333, 0.33333333, 0.75      , 0.66666667, 0.66666667,\n",
       "       0.91666667, 0.41666667, 0.33333333, 0.25      , 0.75      ,\n",
       "       0.08333333, 0.16666667, 0.41666667, 0.25      , 0.75      ,\n",
       "       1.        , 0.83333333, 0.41666667, 1.        , 0.33333333,\n",
       "       0.91666667, 0.5       , 0.91666667, 0.58333333, 0.83333333])"
      ]
     },
     "execution_count": 61,
     "metadata": {},
     "output_type": "execute_result"
    }
   ],
   "source": [
    "# Check recall scores for each class (None, micro overall)\n",
    "recall_score(ytrue, yhat, average=None)"
   ]
  },
  {
   "cell_type": "code",
   "execution_count": 62,
   "id": "4be526e8",
   "metadata": {},
   "outputs": [
    {
     "data": {
      "text/plain": [
       "array([0.42105263, 0.63636364, 0.33333333, 0.58064516, 0.52173913,\n",
       "       0.33333333, 0.64      , 0.58064516, 0.75      , 0.88      ,\n",
       "       0.64516129, 0.42105263, 0.64285714, 0.72727273, 0.57142857,\n",
       "       0.91666667, 0.55555556, 0.44444444, 0.27272727, 0.72      ,\n",
       "       0.13333333, 0.2       , 0.29411765, 0.26086957, 0.75      ,\n",
       "       0.88888889, 0.8       , 0.58823529, 0.92307692, 0.44444444,\n",
       "       0.84615385, 0.66666667, 0.88      , 0.7       , 0.76923077])"
      ]
     },
     "execution_count": 62,
     "metadata": {},
     "output_type": "execute_result"
    }
   ],
   "source": [
    "f1_score(ytrue, yhat, average=None)"
   ]
  }
 ],
 "metadata": {
  "kernelspec": {
   "display_name": "Python 3 (ipykernel)",
   "language": "python",
   "name": "python3"
  },
  "language_info": {
   "codemirror_mode": {
    "name": "ipython",
    "version": 3
   },
   "file_extension": ".py",
   "mimetype": "text/x-python",
   "name": "python",
   "nbconvert_exporter": "python",
   "pygments_lexer": "ipython3",
   "version": "3.8.12"
  }
 },
 "nbformat": 4,
 "nbformat_minor": 5
}

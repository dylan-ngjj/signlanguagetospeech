{
 "cells": [
  {
   "cell_type": "code",
   "execution_count": 1,
   "id": "7e4e2d47",
   "metadata": {
    "collapsed": true
   },
   "outputs": [
    {
     "name": "stdout",
     "output_type": "stream",
     "text": [
      "Requirement already satisfied: tensorflow==2.4.1 in c:\\users\\dylan\\anaconda3\\envs\\sign_language_to_speech\\lib\\site-packages (2.4.1)\n",
      "Requirement already satisfied: tensorflow-gpu==2.4.1 in c:\\users\\dylan\\anaconda3\\envs\\sign_language_to_speech\\lib\\site-packages (2.4.1)\n",
      "Requirement already satisfied: opencv-python in c:\\users\\dylan\\anaconda3\\envs\\sign_language_to_speech\\lib\\site-packages (4.5.3.56)\n",
      "Requirement already satisfied: mediapipe in c:\\users\\dylan\\anaconda3\\envs\\sign_language_to_speech\\lib\\site-packages (0.8.8.1)\n",
      "Requirement already satisfied: sklearn in c:\\users\\dylan\\anaconda3\\envs\\sign_language_to_speech\\lib\\site-packages (0.0)\n",
      "Requirement already satisfied: matplotlib in c:\\users\\dylan\\anaconda3\\envs\\sign_language_to_speech\\lib\\site-packages (3.4.3)\n",
      "Requirement already satisfied: flatbuffers~=1.12.0 in c:\\users\\dylan\\anaconda3\\envs\\sign_language_to_speech\\lib\\site-packages (from tensorflow==2.4.1) (1.12)\n",
      "Requirement already satisfied: keras-preprocessing~=1.1.2 in c:\\users\\dylan\\anaconda3\\envs\\sign_language_to_speech\\lib\\site-packages (from tensorflow==2.4.1) (1.1.2)\n",
      "Requirement already satisfied: opt-einsum~=3.3.0 in c:\\users\\dylan\\anaconda3\\envs\\sign_language_to_speech\\lib\\site-packages (from tensorflow==2.4.1) (3.3.0)\n",
      "Requirement already satisfied: protobuf>=3.9.2 in c:\\users\\dylan\\anaconda3\\envs\\sign_language_to_speech\\lib\\site-packages (from tensorflow==2.4.1) (3.18.1)\n",
      "Requirement already satisfied: tensorboard~=2.4 in c:\\users\\dylan\\anaconda3\\envs\\sign_language_to_speech\\lib\\site-packages (from tensorflow==2.4.1) (2.7.0)\n",
      "Requirement already satisfied: tensorflow-estimator<2.5.0,>=2.4.0 in c:\\users\\dylan\\anaconda3\\envs\\sign_language_to_speech\\lib\\site-packages (from tensorflow==2.4.1) (2.4.0)\n",
      "Requirement already satisfied: numpy~=1.19.2 in c:\\users\\dylan\\anaconda3\\envs\\sign_language_to_speech\\lib\\site-packages (from tensorflow==2.4.1) (1.19.5)\n",
      "Requirement already satisfied: six~=1.15.0 in c:\\users\\dylan\\anaconda3\\envs\\sign_language_to_speech\\lib\\site-packages (from tensorflow==2.4.1) (1.15.0)\n",
      "Requirement already satisfied: wrapt~=1.12.1 in c:\\users\\dylan\\anaconda3\\envs\\sign_language_to_speech\\lib\\site-packages (from tensorflow==2.4.1) (1.12.1)\n",
      "Requirement already satisfied: absl-py~=0.10 in c:\\users\\dylan\\anaconda3\\envs\\sign_language_to_speech\\lib\\site-packages (from tensorflow==2.4.1) (0.15.0)\n",
      "Requirement already satisfied: astunparse~=1.6.3 in c:\\users\\dylan\\anaconda3\\envs\\sign_language_to_speech\\lib\\site-packages (from tensorflow==2.4.1) (1.6.3)\n",
      "Requirement already satisfied: gast==0.3.3 in c:\\users\\dylan\\anaconda3\\envs\\sign_language_to_speech\\lib\\site-packages (from tensorflow==2.4.1) (0.3.3)\n",
      "Requirement already satisfied: grpcio~=1.32.0 in c:\\users\\dylan\\anaconda3\\envs\\sign_language_to_speech\\lib\\site-packages (from tensorflow==2.4.1) (1.32.0)\n",
      "Requirement already satisfied: wheel~=0.35 in c:\\users\\dylan\\anaconda3\\envs\\sign_language_to_speech\\lib\\site-packages (from tensorflow==2.4.1) (0.37.0)\n",
      "Requirement already satisfied: google-pasta~=0.2 in c:\\users\\dylan\\anaconda3\\envs\\sign_language_to_speech\\lib\\site-packages (from tensorflow==2.4.1) (0.2.0)\n",
      "Requirement already satisfied: typing-extensions~=3.7.4 in c:\\users\\dylan\\anaconda3\\envs\\sign_language_to_speech\\lib\\site-packages (from tensorflow==2.4.1) (3.7.4.3)\n",
      "Requirement already satisfied: termcolor~=1.1.0 in c:\\users\\dylan\\anaconda3\\envs\\sign_language_to_speech\\lib\\site-packages (from tensorflow==2.4.1) (1.1.0)\n",
      "Requirement already satisfied: h5py~=2.10.0 in c:\\users\\dylan\\anaconda3\\envs\\sign_language_to_speech\\lib\\site-packages (from tensorflow==2.4.1) (2.10.0)\n",
      "Requirement already satisfied: tensorboard-data-server<0.7.0,>=0.6.0 in c:\\users\\dylan\\anaconda3\\envs\\sign_language_to_speech\\lib\\site-packages (from tensorboard~=2.4->tensorflow==2.4.1) (0.6.1)\n",
      "Requirement already satisfied: google-auth<3,>=1.6.3 in c:\\users\\dylan\\anaconda3\\envs\\sign_language_to_speech\\lib\\site-packages (from tensorboard~=2.4->tensorflow==2.4.1) (2.3.0)\n",
      "Requirement already satisfied: setuptools>=41.0.0 in c:\\users\\dylan\\anaconda3\\envs\\sign_language_to_speech\\lib\\site-packages (from tensorboard~=2.4->tensorflow==2.4.1) (58.0.4)\n",
      "Requirement already satisfied: werkzeug>=0.11.15 in c:\\users\\dylan\\anaconda3\\envs\\sign_language_to_speech\\lib\\site-packages (from tensorboard~=2.4->tensorflow==2.4.1) (2.0.2)\n",
      "Requirement already satisfied: tensorboard-plugin-wit>=1.6.0 in c:\\users\\dylan\\anaconda3\\envs\\sign_language_to_speech\\lib\\site-packages (from tensorboard~=2.4->tensorflow==2.4.1) (1.8.0)\n",
      "Requirement already satisfied: google-auth-oauthlib<0.5,>=0.4.1 in c:\\users\\dylan\\anaconda3\\envs\\sign_language_to_speech\\lib\\site-packages (from tensorboard~=2.4->tensorflow==2.4.1) (0.4.6)\n",
      "Requirement already satisfied: markdown>=2.6.8 in c:\\users\\dylan\\anaconda3\\envs\\sign_language_to_speech\\lib\\site-packages (from tensorboard~=2.4->tensorflow==2.4.1) (3.3.4)\n",
      "Requirement already satisfied: requests<3,>=2.21.0 in c:\\users\\dylan\\anaconda3\\envs\\sign_language_to_speech\\lib\\site-packages (from tensorboard~=2.4->tensorflow==2.4.1) (2.26.0)\n",
      "Requirement already satisfied: pyasn1-modules>=0.2.1 in c:\\users\\dylan\\anaconda3\\envs\\sign_language_to_speech\\lib\\site-packages (from google-auth<3,>=1.6.3->tensorboard~=2.4->tensorflow==2.4.1) (0.2.8)\n",
      "Requirement already satisfied: rsa<5,>=3.1.4 in c:\\users\\dylan\\anaconda3\\envs\\sign_language_to_speech\\lib\\site-packages (from google-auth<3,>=1.6.3->tensorboard~=2.4->tensorflow==2.4.1) (4.7.2)\n",
      "Requirement already satisfied: cachetools<5.0,>=2.0.0 in c:\\users\\dylan\\anaconda3\\envs\\sign_language_to_speech\\lib\\site-packages (from google-auth<3,>=1.6.3->tensorboard~=2.4->tensorflow==2.4.1) (4.2.4)\n",
      "Requirement already satisfied: requests-oauthlib>=0.7.0 in c:\\users\\dylan\\anaconda3\\envs\\sign_language_to_speech\\lib\\site-packages (from google-auth-oauthlib<0.5,>=0.4.1->tensorboard~=2.4->tensorflow==2.4.1) (1.3.0)\n",
      "Requirement already satisfied: pyasn1<0.5.0,>=0.4.6 in c:\\users\\dylan\\anaconda3\\envs\\sign_language_to_speech\\lib\\site-packages (from pyasn1-modules>=0.2.1->google-auth<3,>=1.6.3->tensorboard~=2.4->tensorflow==2.4.1) (0.4.8)\n",
      "Requirement already satisfied: urllib3<1.27,>=1.21.1 in c:\\users\\dylan\\anaconda3\\envs\\sign_language_to_speech\\lib\\site-packages (from requests<3,>=2.21.0->tensorboard~=2.4->tensorflow==2.4.1) (1.26.7)\n",
      "Requirement already satisfied: charset-normalizer~=2.0.0 in c:\\users\\dylan\\anaconda3\\envs\\sign_language_to_speech\\lib\\site-packages (from requests<3,>=2.21.0->tensorboard~=2.4->tensorflow==2.4.1) (2.0.7)\n",
      "Requirement already satisfied: certifi>=2017.4.17 in c:\\users\\dylan\\anaconda3\\envs\\sign_language_to_speech\\lib\\site-packages (from requests<3,>=2.21.0->tensorboard~=2.4->tensorflow==2.4.1) (2021.10.8)\n",
      "Requirement already satisfied: idna<4,>=2.5 in c:\\users\\dylan\\anaconda3\\envs\\sign_language_to_speech\\lib\\site-packages (from requests<3,>=2.21.0->tensorboard~=2.4->tensorflow==2.4.1) (3.3)\n",
      "Requirement already satisfied: oauthlib>=3.0.0 in c:\\users\\dylan\\anaconda3\\envs\\sign_language_to_speech\\lib\\site-packages (from requests-oauthlib>=0.7.0->google-auth-oauthlib<0.5,>=0.4.1->tensorboard~=2.4->tensorflow==2.4.1) (3.1.1)\n",
      "Requirement already satisfied: python-dateutil>=2.7 in c:\\users\\dylan\\anaconda3\\envs\\sign_language_to_speech\\lib\\site-packages (from matplotlib) (2.8.2)\n",
      "Requirement already satisfied: cycler>=0.10 in c:\\users\\dylan\\anaconda3\\envs\\sign_language_to_speech\\lib\\site-packages (from matplotlib) (0.10.0)\n",
      "Requirement already satisfied: kiwisolver>=1.0.1 in c:\\users\\dylan\\anaconda3\\envs\\sign_language_to_speech\\lib\\site-packages (from matplotlib) (1.3.2)\n",
      "Requirement already satisfied: pillow>=6.2.0 in c:\\users\\dylan\\anaconda3\\envs\\sign_language_to_speech\\lib\\site-packages (from matplotlib) (8.4.0)\n",
      "Requirement already satisfied: pyparsing>=2.2.1 in c:\\users\\dylan\\anaconda3\\envs\\sign_language_to_speech\\lib\\site-packages (from matplotlib) (2.4.7)\n",
      "Requirement already satisfied: attrs>=19.1.0 in c:\\users\\dylan\\anaconda3\\envs\\sign_language_to_speech\\lib\\site-packages (from mediapipe) (21.2.0)\n",
      "Requirement already satisfied: opencv-contrib-python in c:\\users\\dylan\\anaconda3\\envs\\sign_language_to_speech\\lib\\site-packages (from mediapipe) (4.5.3.56)\n",
      "Requirement already satisfied: scikit-learn in c:\\users\\dylan\\anaconda3\\envs\\sign_language_to_speech\\lib\\site-packages (from sklearn) (1.0)\n",
      "Requirement already satisfied: joblib>=0.11 in c:\\users\\dylan\\anaconda3\\envs\\sign_language_to_speech\\lib\\site-packages (from scikit-learn->sklearn) (1.1.0)\n",
      "Requirement already satisfied: threadpoolctl>=2.0.0 in c:\\users\\dylan\\anaconda3\\envs\\sign_language_to_speech\\lib\\site-packages (from scikit-learn->sklearn) (3.0.0)\n",
      "Requirement already satisfied: scipy>=1.1.0 in c:\\users\\dylan\\anaconda3\\envs\\sign_language_to_speech\\lib\\site-packages (from scikit-learn->sklearn) (1.7.1)\n"
     ]
    }
   ],
   "source": [
    "!pip install tensorflow==2.4.1 tensorflow-gpu==2.4.1 opencv-python mediapipe sklearn matplotlib"
   ]
  },
  {
   "cell_type": "code",
   "execution_count": 16,
   "id": "ed0ff970",
   "metadata": {},
   "outputs": [],
   "source": [
    "import os\n",
    "import numpy as np"
   ]
  },
  {
   "cell_type": "code",
   "execution_count": 20,
   "id": "487e569e",
   "metadata": {},
   "outputs": [],
   "source": [
    "DATA_PATH = os.path.join('MP_Data')\n",
    "\n",
    "actions = np.array(['a', 'b', 'c', 'd', 'e', 'f', 'g', 'h', 'i', 'j', 'k', 'l',\n",
    "                   'm', 'n', 'o', 'p', 'q', 'r', 's', 't', 'u', 'v', 'w', 'x', 'y', 'z',\n",
    "                   'hello', 'thank you'])\n",
    "\n",
    "no_sequences = 30\n",
    "\n",
    "sequence_length = 30"
   ]
  },
  {
   "cell_type": "code",
   "execution_count": 10,
   "id": "5e903f3d",
   "metadata": {},
   "outputs": [],
   "source": [
    "import mediapipe as mp\n",
    "import cv2"
   ]
  },
  {
   "cell_type": "code",
   "execution_count": 11,
   "id": "4011d510",
   "metadata": {},
   "outputs": [],
   "source": [
    "mp_holistic = mp.solutions.holistic\n",
    "mp_drawing = mp.solutions.drawing_utils"
   ]
  },
  {
   "cell_type": "code",
   "execution_count": 18,
   "id": "3e00a95c",
   "metadata": {},
   "outputs": [],
   "source": [
    "def mediapipe_detection():\n",
    "#def mediapipe_detection(image, model):\n",
    "    image = cv2.cvtColor(image, cv2.COLOR_BGR2RGB)\n",
    "    image.flags.writeable = False\n",
    "    results = model.process(image)\n",
    "    image.flags.writeable = True\n",
    "    image = cv2.cvtColor(image, cv2.COLOR_RGB2BGR)\n",
    "    return image, results"
   ]
  }
 ],
 "metadata": {
  "kernelspec": {
   "display_name": "Python 3 (ipykernel)",
   "language": "python",
   "name": "python3"
  },
  "language_info": {
   "codemirror_mode": {
    "name": "ipython",
    "version": 3
   },
   "file_extension": ".py",
   "mimetype": "text/x-python",
   "name": "python",
   "nbconvert_exporter": "python",
   "pygments_lexer": "ipython3",
   "version": "3.8.12"
  }
 },
 "nbformat": 4,
 "nbformat_minor": 5
}

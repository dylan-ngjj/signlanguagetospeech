{
 "cells": [
  {
   "cell_type": "markdown",
   "id": "5049e30b",
   "metadata": {},
   "source": [
    "# 1. Import SignLanguageModule notebook"
   ]
  },
  {
   "cell_type": "code",
   "execution_count": 1,
   "id": "9c95616f",
   "metadata": {},
   "outputs": [
    {
     "name": "stdout",
     "output_type": "stream",
     "text": [
      "Requirement already satisfied: tensorflow==2.5.0 in c:\\users\\dylan\\anaconda3\\envs\\sign_language_to_speech\\lib\\site-packages (2.5.0)\n",
      "Requirement already satisfied: opencv-python in c:\\users\\dylan\\anaconda3\\envs\\sign_language_to_speech\\lib\\site-packages (4.5.3.56)\n",
      "Requirement already satisfied: mediapipe in c:\\users\\dylan\\anaconda3\\envs\\sign_language_to_speech\\lib\\site-packages (0.8.8.1)\n",
      "Requirement already satisfied: sklearn in c:\\users\\dylan\\anaconda3\\envs\\sign_language_to_speech\\lib\\site-packages (0.0)\n",
      "Requirement already satisfied: matplotlib in c:\\users\\dylan\\anaconda3\\envs\\sign_language_to_speech\\lib\\site-packages (3.4.3)\n",
      "Requirement already satisfied: keras-nightly~=2.5.0.dev in c:\\users\\dylan\\anaconda3\\envs\\sign_language_to_speech\\lib\\site-packages (from tensorflow==2.5.0) (2.5.0.dev2021032900)\n",
      "Requirement already satisfied: google-pasta~=0.2 in c:\\users\\dylan\\anaconda3\\envs\\sign_language_to_speech\\lib\\site-packages (from tensorflow==2.5.0) (0.2.0)\n",
      "Requirement already satisfied: six~=1.15.0 in c:\\users\\dylan\\anaconda3\\envs\\sign_language_to_speech\\lib\\site-packages (from tensorflow==2.5.0) (1.15.0)\n",
      "Requirement already satisfied: tensorflow-estimator<2.6.0,>=2.5.0rc0 in c:\\users\\dylan\\anaconda3\\envs\\sign_language_to_speech\\lib\\site-packages (from tensorflow==2.5.0) (2.5.0)\n",
      "Requirement already satisfied: opt-einsum~=3.3.0 in c:\\users\\dylan\\anaconda3\\envs\\sign_language_to_speech\\lib\\site-packages (from tensorflow==2.5.0) (3.3.0)\n",
      "Requirement already satisfied: tensorboard~=2.5 in c:\\users\\dylan\\anaconda3\\envs\\sign_language_to_speech\\lib\\site-packages (from tensorflow==2.5.0) (2.7.0)\n",
      "Requirement already satisfied: numpy~=1.19.2 in c:\\users\\dylan\\anaconda3\\envs\\sign_language_to_speech\\lib\\site-packages (from tensorflow==2.5.0) (1.19.5)\n",
      "Requirement already satisfied: absl-py~=0.10 in c:\\users\\dylan\\anaconda3\\envs\\sign_language_to_speech\\lib\\site-packages (from tensorflow==2.5.0) (0.15.0)\n",
      "Requirement already satisfied: wheel~=0.35 in c:\\users\\dylan\\anaconda3\\envs\\sign_language_to_speech\\lib\\site-packages (from tensorflow==2.5.0) (0.37.0)\n",
      "Requirement already satisfied: flatbuffers~=1.12.0 in c:\\users\\dylan\\anaconda3\\envs\\sign_language_to_speech\\lib\\site-packages (from tensorflow==2.5.0) (1.12)\n",
      "Requirement already satisfied: protobuf>=3.9.2 in c:\\users\\dylan\\anaconda3\\envs\\sign_language_to_speech\\lib\\site-packages (from tensorflow==2.5.0) (3.18.1)\n",
      "Requirement already satisfied: typing-extensions~=3.7.4 in c:\\users\\dylan\\anaconda3\\envs\\sign_language_to_speech\\lib\\site-packages (from tensorflow==2.5.0) (3.7.4.3)\n",
      "Requirement already satisfied: gast==0.4.0 in c:\\users\\dylan\\anaconda3\\envs\\sign_language_to_speech\\lib\\site-packages (from tensorflow==2.5.0) (0.4.0)\n",
      "Requirement already satisfied: h5py~=3.1.0 in c:\\users\\dylan\\anaconda3\\envs\\sign_language_to_speech\\lib\\site-packages (from tensorflow==2.5.0) (3.1.0)\n",
      "Requirement already satisfied: grpcio~=1.34.0 in c:\\users\\dylan\\anaconda3\\envs\\sign_language_to_speech\\lib\\site-packages (from tensorflow==2.5.0) (1.34.1)\n",
      "Requirement already satisfied: astunparse~=1.6.3 in c:\\users\\dylan\\anaconda3\\envs\\sign_language_to_speech\\lib\\site-packages (from tensorflow==2.5.0) (1.6.3)\n",
      "Requirement already satisfied: keras-preprocessing~=1.1.2 in c:\\users\\dylan\\anaconda3\\envs\\sign_language_to_speech\\lib\\site-packages (from tensorflow==2.5.0) (1.1.2)\n",
      "Requirement already satisfied: termcolor~=1.1.0 in c:\\users\\dylan\\anaconda3\\envs\\sign_language_to_speech\\lib\\site-packages (from tensorflow==2.5.0) (1.1.0)\n",
      "Requirement already satisfied: wrapt~=1.12.1 in c:\\users\\dylan\\anaconda3\\envs\\sign_language_to_speech\\lib\\site-packages (from tensorflow==2.5.0) (1.12.1)\n",
      "Requirement already satisfied: tensorboard-data-server<0.7.0,>=0.6.0 in c:\\users\\dylan\\anaconda3\\envs\\sign_language_to_speech\\lib\\site-packages (from tensorboard~=2.5->tensorflow==2.5.0) (0.6.1)\n",
      "Requirement already satisfied: tensorboard-plugin-wit>=1.6.0 in c:\\users\\dylan\\anaconda3\\envs\\sign_language_to_speech\\lib\\site-packages (from tensorboard~=2.5->tensorflow==2.5.0) (1.8.0)\n",
      "Requirement already satisfied: google-auth<3,>=1.6.3 in c:\\users\\dylan\\anaconda3\\envs\\sign_language_to_speech\\lib\\site-packages (from tensorboard~=2.5->tensorflow==2.5.0) (2.3.0)\n",
      "Requirement already satisfied: google-auth-oauthlib<0.5,>=0.4.1 in c:\\users\\dylan\\anaconda3\\envs\\sign_language_to_speech\\lib\\site-packages (from tensorboard~=2.5->tensorflow==2.5.0) (0.4.6)\n",
      "Requirement already satisfied: requests<3,>=2.21.0 in c:\\users\\dylan\\anaconda3\\envs\\sign_language_to_speech\\lib\\site-packages (from tensorboard~=2.5->tensorflow==2.5.0) (2.26.0)\n",
      "Requirement already satisfied: werkzeug>=0.11.15 in c:\\users\\dylan\\anaconda3\\envs\\sign_language_to_speech\\lib\\site-packages (from tensorboard~=2.5->tensorflow==2.5.0) (2.0.2)\n",
      "Requirement already satisfied: setuptools>=41.0.0 in c:\\users\\dylan\\anaconda3\\envs\\sign_language_to_speech\\lib\\site-packages (from tensorboard~=2.5->tensorflow==2.5.0) (58.0.4)\n",
      "Requirement already satisfied: markdown>=2.6.8 in c:\\users\\dylan\\anaconda3\\envs\\sign_language_to_speech\\lib\\site-packages (from tensorboard~=2.5->tensorflow==2.5.0) (3.3.4)\n",
      "Requirement already satisfied: pyasn1-modules>=0.2.1 in c:\\users\\dylan\\anaconda3\\envs\\sign_language_to_speech\\lib\\site-packages (from google-auth<3,>=1.6.3->tensorboard~=2.5->tensorflow==2.5.0) (0.2.8)\n",
      "Requirement already satisfied: cachetools<5.0,>=2.0.0 in c:\\users\\dylan\\anaconda3\\envs\\sign_language_to_speech\\lib\\site-packages (from google-auth<3,>=1.6.3->tensorboard~=2.5->tensorflow==2.5.0) (4.2.4)\n",
      "Requirement already satisfied: rsa<5,>=3.1.4 in c:\\users\\dylan\\anaconda3\\envs\\sign_language_to_speech\\lib\\site-packages (from google-auth<3,>=1.6.3->tensorboard~=2.5->tensorflow==2.5.0) (4.7.2)\n",
      "Requirement already satisfied: requests-oauthlib>=0.7.0 in c:\\users\\dylan\\anaconda3\\envs\\sign_language_to_speech\\lib\\site-packages (from google-auth-oauthlib<0.5,>=0.4.1->tensorboard~=2.5->tensorflow==2.5.0) (1.3.0)\n",
      "Requirement already satisfied: pyasn1<0.5.0,>=0.4.6 in c:\\users\\dylan\\anaconda3\\envs\\sign_language_to_speech\\lib\\site-packages (from pyasn1-modules>=0.2.1->google-auth<3,>=1.6.3->tensorboard~=2.5->tensorflow==2.5.0) (0.4.8)\n",
      "Requirement already satisfied: charset-normalizer~=2.0.0 in c:\\users\\dylan\\anaconda3\\envs\\sign_language_to_speech\\lib\\site-packages (from requests<3,>=2.21.0->tensorboard~=2.5->tensorflow==2.5.0) (2.0.7)\n",
      "Requirement already satisfied: urllib3<1.27,>=1.21.1 in c:\\users\\dylan\\anaconda3\\envs\\sign_language_to_speech\\lib\\site-packages (from requests<3,>=2.21.0->tensorboard~=2.5->tensorflow==2.5.0) (1.26.7)\n",
      "Requirement already satisfied: certifi>=2017.4.17 in c:\\users\\dylan\\anaconda3\\envs\\sign_language_to_speech\\lib\\site-packages (from requests<3,>=2.21.0->tensorboard~=2.5->tensorflow==2.5.0) (2021.10.8)\n",
      "Requirement already satisfied: idna<4,>=2.5 in c:\\users\\dylan\\anaconda3\\envs\\sign_language_to_speech\\lib\\site-packages (from requests<3,>=2.21.0->tensorboard~=2.5->tensorflow==2.5.0) (3.3)\n",
      "Requirement already satisfied: oauthlib>=3.0.0 in c:\\users\\dylan\\anaconda3\\envs\\sign_language_to_speech\\lib\\site-packages (from requests-oauthlib>=0.7.0->google-auth-oauthlib<0.5,>=0.4.1->tensorboard~=2.5->tensorflow==2.5.0) (3.1.1)\n",
      "Requirement already satisfied: pyparsing>=2.2.1 in c:\\users\\dylan\\anaconda3\\envs\\sign_language_to_speech\\lib\\site-packages (from matplotlib) (2.4.7)\n",
      "Requirement already satisfied: cycler>=0.10 in c:\\users\\dylan\\anaconda3\\envs\\sign_language_to_speech\\lib\\site-packages (from matplotlib) (0.10.0)\n",
      "Requirement already satisfied: kiwisolver>=1.0.1 in c:\\users\\dylan\\anaconda3\\envs\\sign_language_to_speech\\lib\\site-packages (from matplotlib) (1.3.2)\n",
      "Requirement already satisfied: python-dateutil>=2.7 in c:\\users\\dylan\\anaconda3\\envs\\sign_language_to_speech\\lib\\site-packages (from matplotlib) (2.8.2)\n",
      "Requirement already satisfied: pillow>=6.2.0 in c:\\users\\dylan\\anaconda3\\envs\\sign_language_to_speech\\lib\\site-packages (from matplotlib) (8.4.0)\n",
      "Requirement already satisfied: attrs>=19.1.0 in c:\\users\\dylan\\anaconda3\\envs\\sign_language_to_speech\\lib\\site-packages (from mediapipe) (21.2.0)\n",
      "Requirement already satisfied: opencv-contrib-python in c:\\users\\dylan\\anaconda3\\envs\\sign_language_to_speech\\lib\\site-packages (from mediapipe) (4.5.3.56)\n",
      "Requirement already satisfied: scikit-learn in c:\\users\\dylan\\anaconda3\\envs\\sign_language_to_speech\\lib\\site-packages (from sklearn) (1.0)\n",
      "Requirement already satisfied: joblib>=0.11 in c:\\users\\dylan\\anaconda3\\envs\\sign_language_to_speech\\lib\\site-packages (from scikit-learn->sklearn) (1.1.0)\n",
      "Requirement already satisfied: scipy>=1.1.0 in c:\\users\\dylan\\anaconda3\\envs\\sign_language_to_speech\\lib\\site-packages (from scikit-learn->sklearn) (1.7.1)\n",
      "Requirement already satisfied: threadpoolctl>=2.0.0 in c:\\users\\dylan\\anaconda3\\envs\\sign_language_to_speech\\lib\\site-packages (from scikit-learn->sklearn) (3.0.0)\n"
     ]
    },
    {
     "name": "stderr",
     "output_type": "stream",
     "text": [
      "ERROR: Invalid requirement: '#'\n"
     ]
    },
    {
     "name": "stdout",
     "output_type": "stream",
     "text": [
      "['a', 'b', 'c', 'd', 'e', 'f', 'g', 'h', 'i', 'j', 'k', 'l', 'm', 'n', 'o', 'p', 'q', 'r', 's', 't', 'u', 'v', 'w', 'x', 'y', 'z']\n"
     ]
    }
   ],
   "source": [
    "import import_ipynb\n",
    "import SignLanguageModule as signLangModule # notebook converted as .py file"
   ]
  },
  {
   "cell_type": "markdown",
   "id": "7f49f143",
   "metadata": {},
   "source": [
    "# 2. Load trained LSTM neural network"
   ]
  },
  {
   "cell_type": "code",
   "execution_count": 2,
   "id": "2462186f",
   "metadata": {},
   "outputs": [],
   "source": [
    "# Load trained LSTM neural network from the same folder \n",
    "signLangModule.model.load_weights('sign_language.h5')"
   ]
  },
  {
   "cell_type": "code",
   "execution_count": 3,
   "id": "15353fec",
   "metadata": {},
   "outputs": [
    {
     "name": "stdout",
     "output_type": "stream",
     "text": [
      "['d' 'y' 'l' 'a' 'n']\n"
     ]
    }
   ],
   "source": [
    "# Print the signs that can be predicted by the trained LSTM neural network\n",
    "print(signLangModule.signs)"
   ]
  },
  {
   "cell_type": "markdown",
   "id": "7e515111",
   "metadata": {},
   "source": [
    "# 2. Real Time Detection Conversion"
   ]
  },
  {
   "cell_type": "code",
   "execution_count": null,
   "id": "9a2dc23a",
   "metadata": {},
   "outputs": [],
   "source": [
    "## Invoke function from SignLanguageModule notebook imported earlier \n",
    "# for real time detection conversion\n",
    "# signLangModule.sign_to_speech()\n",
    "# print(signLangModule.sentence)\n",
    "## For testing webcam \n",
    "signLangModule.test_camera()"
   ]
  }
 ],
 "metadata": {
  "kernelspec": {
   "display_name": "Python 3 (ipykernel)",
   "language": "python",
   "name": "python3"
  },
  "language_info": {
   "codemirror_mode": {
    "name": "ipython",
    "version": 3
   },
   "file_extension": ".py",
   "mimetype": "text/x-python",
   "name": "python",
   "nbconvert_exporter": "python",
   "pygments_lexer": "ipython3",
   "version": "3.8.12"
  }
 },
 "nbformat": 4,
 "nbformat_minor": 5
}

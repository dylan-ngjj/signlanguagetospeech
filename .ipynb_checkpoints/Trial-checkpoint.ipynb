{
 "cells": [
  {
   "cell_type": "code",
   "execution_count": 4,
   "id": "ef3e5bcf",
   "metadata": {},
   "outputs": [],
   "source": [
    "import import_ipynb\n",
    "import MPFunctions as mpf"
   ]
  },
  {
   "cell_type": "code",
   "execution_count": null,
   "id": "ad9f3109",
   "metadata": {},
   "outputs": [],
   "source": [
    "cap = cv2.VideoCapture(0)\n",
    "with mp_holistic.Holistic(min_detection_confidence=0.5, min_tracking_confidence=0.5) as holistic:\n",
    "    while cap.isOpened():\n",
    "        \n",
    "        ret, frame = cap.read()\n",
    "        \n",
    "        image, results = mpf.mediapipe_detection(frame, holistic)\n",
    "        print(results)\n",
    "        \n",
    "       #draw_styled_landmarks(image, results) \n",
    "        \n",
    "        cv2.imshow('OpenCV Feed', image)\n",
    "        \n",
    "        if cv2.waitKey(10) & 0xFF == ord('q'):\n",
    "            break\n",
    "    cap.release()\n",
    "    cv2.destroyAllWindows()"
   ]
  }
 ],
 "metadata": {
  "kernelspec": {
   "display_name": "Python 3 (ipykernel)",
   "language": "python",
   "name": "python3"
  },
  "language_info": {
   "codemirror_mode": {
    "name": "ipython",
    "version": 3
   },
   "file_extension": ".py",
   "mimetype": "text/x-python",
   "name": "python",
   "nbconvert_exporter": "python",
   "pygments_lexer": "ipython3",
   "version": "3.8.12"
  }
 },
 "nbformat": 4,
 "nbformat_minor": 5
}
